{
 "cells": [
  {
   "cell_type": "markdown",
   "id": "3dcfdc41",
   "metadata": {},
   "source": [
    "<h2>Introdução:</h2>\n",
    "\n",
    "A análise dos dados de marketing de uma organização é uma das aplicações mais típicas da ciência de dados. Campanhas de marketing tem como objetivo informar e criar valor para satisfazer as necessidades de um público-alvo, que por sua vez retribuem a organização com a aquisição de seus produtos e consequente geração de receita. \n",
    "\n",
    "A análise dos dados de uma campanha de marketing podem ser utilizados para:\n",
    "\n",
    "a) Predição do resultado de futuras campanhas de marketings para diferentes tipos de clientes e identificação dos fatores que mais afetam estes resultados. Essas informações podem ajudar na elaboração de campanhas de marketing mais eficientes.\n",
    "\n",
    "b) Identificar e segmentar a clientela em diferentes perfis. Ajudando na escolha do público-alvo de futuras campanhas. \n",
    "\n",
    "O objetivo geral deste estudo é aplicar técnicas de ciência de dados para analisar as informações de um banco de dados de uma campanha de marketing de uma instituição financeira e extrair insights que possam orientar suas futuras estratégias de marketing.\n",
    "\n",
    "Neste estudo são utilizados os dados do Bank Marketing Data Set provisionados pelo UCI Machine Learning Repository (<a href=\"https://archive.ics.uci.edu/ml/datasets/bank+marketing\">link</a>). Esses dados se referem a uma campanha de marketing de uma instituição bancária Portuguesa, onde clientes foram contatados via ligação telefônica, para serem oferecidos contratos de depósito a termo. \n",
    "\n",
    "Um depósito bancário a termo é um acordo em que o depositante concorda em deixar um montante de dinheiro depositado em uma instituição financeira por um certo período de tempo, e a instituição financeira por sua vez concorda em devolver o montante acrescido de juros para o depositante ao fim do período. \n",
    "\n",
    "Cada entrada neste banco de dados se refere a um cliente que foi contactado pela campanha de marketing, e inclui informações acerca das características pessoais do cliente, informações relacionadas a campanha e a resposta final do cliente de aceite ou recusa da oferta do produto (contrato de depósito a termo).\n",
    "\n",
    "O objetivo mais específico deste estudo será utilizar técnicas de machine learning para construir um modelo de previsão da chance de sucesso da campanha de marketing, e identificar quais fatores mais afetam esta chance. "
   ]
  },
  {
   "cell_type": "markdown",
   "id": "763d5320",
   "metadata": {},
   "source": [
    "<h2>Sumário</h2>: <br>\n",
    "<b>A. Descrição Dos Dados</b><br>\n",
    "I.Dados de características do cliente.<br>\n",
    "II.Dados relacionados ao ultimo contato.<br>\n",
    "III.Outras variáveis.<br>\n",
    "IV.Variável alvo.<br>\n",
    "\n",
    "<b>B. Análise Exploratória Dos Dados</b><br>\n",
    "I.Análise das variáveis numéricas<br>\n",
    "II.Outliers (identificação e tratamento)<br>\n",
    "III.Análise das variáveis categóricas<br>\n",
    "IV.Análise da variável alvo<br>\n",
    "V.Análise da relação entre a variável alvo e as outras variáveis categóricas<br>\n",
    "VI.Análise da relação entre a variável alvo e as outras variáveis numéricas<br>\n",
    "\n",
    "<b>C. Limpeza Dos Dados</b><br>\n",
    "\n",
    "<b>D. Modelo de Machine Learning</b><br>\n",
    "\n",
    "<b>E. Conclusões</b><br>"
   ]
  },
  {
   "cell_type": "markdown",
   "id": "548c2daf",
   "metadata": {},
   "source": [
    "<h1>Setup:</h1>\n",
    "Preparando o ambiente com importação de livrarias e carregando o banco de dados utilizado."
   ]
  },
  {
   "cell_type": "code",
   "execution_count": 4,
   "id": "4da64218",
   "metadata": {},
   "outputs": [
    {
     "name": "stdout",
     "output_type": "stream",
     "text": [
      "[]\n"
     ]
    }
   ],
   "source": [
    "#importando livrarias de manipulação de dados e algebra linear \n",
    "import numpy as np\n",
    "import pandas as pd\n",
    "\n",
    "#importando livrarias para visualização gráfica\n",
    "import matplotlib.pyplot as plt\n",
    "import seaborn as sns\n",
    "\n",
    "#importando livrarias de machine learning\n",
    "from sklearn.ensemble import RandomForestClassifier\n",
    "from sklearn.ensemble import AdaBoostClassifier, GradientBoostingClassifier\n",
    "from sklearn.svm import SVC\n",
    "from sklearn.neighbors import KNeighborsClassifier\n",
    "from sklearn.naive_bayes import GaussianNB\n",
    "\n",
    "import xgboost\n",
    "\n",
    "from sklearn.model_selection import train_test_split #split\n",
    "from sklearn.metrics import accuracy_score #metrics\n",
    "\n",
    "#importando instrumentos para busca de hyperparametros\n",
    "from sklearn.model_selection import StratifiedKFold\n",
    "from sklearn.model_selection import RandomizedSearchCV, GridSearchCV\n",
    "\n",
    "#determinando caminho para armazenamento dos resultados\n",
    "import os\n",
    "print(os.listdir(\"C:\\Estudos\\Bancos de Dados\\input\"))\n",
    "\n",
    "#Determinando caminho do banco de dados e carregando para um data.frame\n",
    "bank_filepath = \"C:/Estudos/Bancos de Dados/bank.csv\"\n",
    "db = pd.read_csv(bank_filepath)"
   ]
  },
  {
   "cell_type": "markdown",
   "id": "40f69908",
   "metadata": {},
   "source": [
    "<h2>A. Descrição dos Dados</h2>"
   ]
  },
  {
   "cell_type": "code",
   "execution_count": 5,
   "id": "3925d4e6",
   "metadata": {
    "scrolled": false
   },
   "outputs": [
    {
     "data": {
      "text/html": [
       "<div>\n",
       "<style scoped>\n",
       "    .dataframe tbody tr th:only-of-type {\n",
       "        vertical-align: middle;\n",
       "    }\n",
       "\n",
       "    .dataframe tbody tr th {\n",
       "        vertical-align: top;\n",
       "    }\n",
       "\n",
       "    .dataframe thead th {\n",
       "        text-align: right;\n",
       "    }\n",
       "</style>\n",
       "<table border=\"1\" class=\"dataframe\">\n",
       "  <thead>\n",
       "    <tr style=\"text-align: right;\">\n",
       "      <th></th>\n",
       "      <th>age</th>\n",
       "      <th>job</th>\n",
       "      <th>marital</th>\n",
       "      <th>education</th>\n",
       "      <th>default</th>\n",
       "      <th>balance</th>\n",
       "      <th>housing</th>\n",
       "      <th>loan</th>\n",
       "      <th>contact</th>\n",
       "      <th>day</th>\n",
       "      <th>month</th>\n",
       "      <th>duration</th>\n",
       "      <th>campaign</th>\n",
       "      <th>pdays</th>\n",
       "      <th>previous</th>\n",
       "      <th>poutcome</th>\n",
       "      <th>deposit</th>\n",
       "    </tr>\n",
       "  </thead>\n",
       "  <tbody>\n",
       "    <tr>\n",
       "      <th>0</th>\n",
       "      <td>59</td>\n",
       "      <td>admin.</td>\n",
       "      <td>married</td>\n",
       "      <td>secondary</td>\n",
       "      <td>no</td>\n",
       "      <td>2343</td>\n",
       "      <td>yes</td>\n",
       "      <td>no</td>\n",
       "      <td>unknown</td>\n",
       "      <td>5</td>\n",
       "      <td>may</td>\n",
       "      <td>1042</td>\n",
       "      <td>1</td>\n",
       "      <td>-1</td>\n",
       "      <td>0</td>\n",
       "      <td>unknown</td>\n",
       "      <td>yes</td>\n",
       "    </tr>\n",
       "    <tr>\n",
       "      <th>1</th>\n",
       "      <td>56</td>\n",
       "      <td>admin.</td>\n",
       "      <td>married</td>\n",
       "      <td>secondary</td>\n",
       "      <td>no</td>\n",
       "      <td>45</td>\n",
       "      <td>no</td>\n",
       "      <td>no</td>\n",
       "      <td>unknown</td>\n",
       "      <td>5</td>\n",
       "      <td>may</td>\n",
       "      <td>1467</td>\n",
       "      <td>1</td>\n",
       "      <td>-1</td>\n",
       "      <td>0</td>\n",
       "      <td>unknown</td>\n",
       "      <td>yes</td>\n",
       "    </tr>\n",
       "    <tr>\n",
       "      <th>2</th>\n",
       "      <td>41</td>\n",
       "      <td>technician</td>\n",
       "      <td>married</td>\n",
       "      <td>secondary</td>\n",
       "      <td>no</td>\n",
       "      <td>1270</td>\n",
       "      <td>yes</td>\n",
       "      <td>no</td>\n",
       "      <td>unknown</td>\n",
       "      <td>5</td>\n",
       "      <td>may</td>\n",
       "      <td>1389</td>\n",
       "      <td>1</td>\n",
       "      <td>-1</td>\n",
       "      <td>0</td>\n",
       "      <td>unknown</td>\n",
       "      <td>yes</td>\n",
       "    </tr>\n",
       "    <tr>\n",
       "      <th>3</th>\n",
       "      <td>55</td>\n",
       "      <td>services</td>\n",
       "      <td>married</td>\n",
       "      <td>secondary</td>\n",
       "      <td>no</td>\n",
       "      <td>2476</td>\n",
       "      <td>yes</td>\n",
       "      <td>no</td>\n",
       "      <td>unknown</td>\n",
       "      <td>5</td>\n",
       "      <td>may</td>\n",
       "      <td>579</td>\n",
       "      <td>1</td>\n",
       "      <td>-1</td>\n",
       "      <td>0</td>\n",
       "      <td>unknown</td>\n",
       "      <td>yes</td>\n",
       "    </tr>\n",
       "    <tr>\n",
       "      <th>4</th>\n",
       "      <td>54</td>\n",
       "      <td>admin.</td>\n",
       "      <td>married</td>\n",
       "      <td>tertiary</td>\n",
       "      <td>no</td>\n",
       "      <td>184</td>\n",
       "      <td>no</td>\n",
       "      <td>no</td>\n",
       "      <td>unknown</td>\n",
       "      <td>5</td>\n",
       "      <td>may</td>\n",
       "      <td>673</td>\n",
       "      <td>2</td>\n",
       "      <td>-1</td>\n",
       "      <td>0</td>\n",
       "      <td>unknown</td>\n",
       "      <td>yes</td>\n",
       "    </tr>\n",
       "  </tbody>\n",
       "</table>\n",
       "</div>"
      ],
      "text/plain": [
       "   age         job  marital  education default  balance housing loan  contact  \\\n",
       "0   59      admin.  married  secondary      no     2343     yes   no  unknown   \n",
       "1   56      admin.  married  secondary      no       45      no   no  unknown   \n",
       "2   41  technician  married  secondary      no     1270     yes   no  unknown   \n",
       "3   55    services  married  secondary      no     2476     yes   no  unknown   \n",
       "4   54      admin.  married   tertiary      no      184      no   no  unknown   \n",
       "\n",
       "   day month  duration  campaign  pdays  previous poutcome deposit  \n",
       "0    5   may      1042         1     -1         0  unknown     yes  \n",
       "1    5   may      1467         1     -1         0  unknown     yes  \n",
       "2    5   may      1389         1     -1         0  unknown     yes  \n",
       "3    5   may       579         1     -1         0  unknown     yes  \n",
       "4    5   may       673         2     -1         0  unknown     yes  "
      ]
     },
     "execution_count": 5,
     "metadata": {},
     "output_type": "execute_result"
    }
   ],
   "source": [
    "#Mostrando primeiras linhas do banco de dados\n",
    "db.head()"
   ]
  },
  {
   "cell_type": "code",
   "execution_count": 173,
   "id": "eb6b2adc",
   "metadata": {
    "scrolled": true
   },
   "outputs": [
    {
     "name": "stdout",
     "output_type": "stream",
     "text": [
      "O banco de dados contém 11162 linhas, e 17 colunas\n"
     ]
    }
   ],
   "source": [
    "print(\"O banco de dados contém {rows} linhas, e 17 colunas\".format(rows = len(db)))"
   ]
  },
  {
   "cell_type": "markdown",
   "id": "f08ae6d7",
   "metadata": {},
   "source": [
    "Este banco de dados contém 17 variáveis e 11162 observações. As 17 variáveis contidas no banco de dados podem ser dividas em 4 categorias: 1) dados de características do cliente, 2) dados relacionados ao último contato da campanha, 3) outras variáveis, 4) variável alvo do modelo de predição, no caso 'deposit' que informa se o cliente aceitou ou não a oferta da campanha."
   ]
  },
  {
   "cell_type": "markdown",
   "id": "23f1f3a5",
   "metadata": {},
   "source": [
    "<h3>A.I Dados de caracteristicas dos clientes</h3>"
   ]
  },
  {
   "cell_type": "markdown",
   "id": "5be6b876",
   "metadata": {},
   "source": [
    "<b>1.age</b>: Idade do cliente (numérico)</br>\n",
    "<b>2.job</b>: Tipo de trabalho desempenhado pelo cliente (11 categorias):</br>\n",
    "<table>\n",
    "  <tr>\n",
    "    <th style=\"text-align: center; vertical-align: middle;\">1.Trabalho administrativo</th>\n",
    "    <th style=\"text-align: center; vertical-align: middle;\">2.Colarinho azul</th>\n",
    "    <th style=\"text-align: center; vertical-align: middle;\">3.Empreendedor</th>\n",
    "  </tr>\n",
    "  <tr>\n",
    "      <td style=\"text-align: center; vertical-align: middle;\"><b>4.Trabalho Doméstico</b></td>\n",
    "    <td style=\"text-align: center; vertical-align: middle;\"><b>5.Trabalho gerencial</b></td>\n",
    "    <td style=\"text-align: center; vertical-align: middle;\"><b>6.Aposentado</b></td>\n",
    "  </tr>\n",
    "  <tr>\n",
    "    <td style=\"text-align: center; vertical-align: middle;\"><b>7.Trabalho por conta própria</b></td>\n",
    "    <td style=\"text-align: center; vertical-align: middle;\"><b>8.Indústria de serviços</b></td>\n",
    "    <td style=\"text-align: center; vertical-align: middle;\"><b>9.Técnico</b></td>\n",
    "  </tr>\n",
    "  <tr>\n",
    "    <td style=\"text-align: center; vertical-align: middle;\"><b>10.Estudante</b></td>\n",
    "    <td style=\"text-align: center; vertical-align: middle;\"><b>11.Desempregado</b></td>\n",
    "    <td style=\"text-align: center; vertical-align: middle;\"><b>12.Desconhecido</b></td>\n",
    "  </tr>\n",
    "</table>\n",
    "<b>3.marital</b>: Estado conjugal do cliente (4 categorias): solteiro, casado, divorciado, desconhecido.\n",
    "\n",
    "<b>4.education</b>: Grau de educação do cliente (4 categorias): primário(ensino fundamental), secundário(ensino médio), terciário(ensino superior), desconhecido.\n",
    "\n",
    "<b>5.default</b>: Possui dívida? (2 categorias): Sim/não.\n",
    "\n",
    "<b>6.housing</b>: Cliente tomou empréstimo imobiliário ? (3 categorias): sim, não, desconhecido.\n",
    "\n",
    "<b>7.loan</b>: Cliente tomou empréstimo pessoal? (3 categorias): sim, não, desconhecido.\n",
    "\n",
    "<b>8.balance</b>: Saldo do cliente (numérico)\n",
    "\n"
   ]
  },
  {
   "cell_type": "markdown",
   "id": "307e764a",
   "metadata": {},
   "source": [
    "<h3>A.II Dados relacionados ao último contato da campanha</h3>"
   ]
  },
  {
   "cell_type": "markdown",
   "id": "81b0522b",
   "metadata": {},
   "source": [
    "<b>9.contact</b>: Meio de comunicação utilizado para o último contato (3 categorias): telefone, celular, desconhecido.\n",
    "\n",
    "<b>10.month</b>: Mês do ano em que foi realizado o último contato (12 categorias): jan, fev, ... , dez.\n",
    "\n",
    "<b>11.day</b>: Dia do mês em que foi realizado o último contato (numérico)\n",
    "\n",
    "<b>12.duration</b>: Duração do último contato em segundos. (numérico).\n"
   ]
  },
  {
   "cell_type": "markdown",
   "id": "35304d36",
   "metadata": {},
   "source": [
    "<h3>A.III Outras variáveis</h3>"
   ]
  },
  {
   "cell_type": "markdown",
   "id": "128e76a8",
   "metadata": {},
   "source": [
    "<b>13.campaign</b>: Número de contatos realizados com o cliente durante essa campanha, incluindo o último contato. (numérico).\n",
    "\n",
    "<b>14.pdays</b> Número de dias que se passaram desde que o cliente foi contactado em uma campanha anterior (numérico 999; significa que o cliente não foi contactado na campanha anterior).\n",
    "\n",
    "<b>15.previous</b>: Número de contatos realizados com este cliente em campanhas anteriores. (numérico).\n",
    "\n",
    "<b>16.poutcome</b>: Resultado da campanha anterior. (3 categorias): Sucesso, falha, não-se-aplica.\n"
   ]
  },
  {
   "cell_type": "markdown",
   "id": "2e9b064e",
   "metadata": {},
   "source": [
    "<b>4) Variável alvo:</b></br>\n",
    "<b>17.deposit</b>: O cliente aceitou a proposta de realizar um deposito a termo? (2 categorias): Sim/Não."
   ]
  },
  {
   "cell_type": "markdown",
   "id": "1be9e532",
   "metadata": {},
   "source": [
    "<h2>B. Análise Exploratoria dos Dados:</h2>"
   ]
  },
  {
   "cell_type": "code",
   "execution_count": 6,
   "id": "102236ed",
   "metadata": {
    "scrolled": false
   },
   "outputs": [
    {
     "name": "stdout",
     "output_type": "stream",
     "text": [
      "<class 'pandas.core.frame.DataFrame'>\n",
      "RangeIndex: 11162 entries, 0 to 11161\n",
      "Data columns (total 17 columns):\n",
      " #   Column     Non-Null Count  Dtype \n",
      "---  ------     --------------  ----- \n",
      " 0   age        11162 non-null  int64 \n",
      " 1   job        11162 non-null  object\n",
      " 2   marital    11162 non-null  object\n",
      " 3   education  11162 non-null  object\n",
      " 4   default    11162 non-null  object\n",
      " 5   balance    11162 non-null  int64 \n",
      " 6   housing    11162 non-null  object\n",
      " 7   loan       11162 non-null  object\n",
      " 8   contact    11162 non-null  object\n",
      " 9   day        11162 non-null  int64 \n",
      " 10  month      11162 non-null  object\n",
      " 11  duration   11162 non-null  int64 \n",
      " 12  campaign   11162 non-null  int64 \n",
      " 13  pdays      11162 non-null  int64 \n",
      " 14  previous   11162 non-null  int64 \n",
      " 15  poutcome   11162 non-null  object\n",
      " 16  deposit    11162 non-null  object\n",
      "dtypes: int64(7), object(10)\n",
      "memory usage: 1.4+ MB\n"
     ]
    }
   ],
   "source": [
    "db.info()"
   ]
  },
  {
   "cell_type": "markdown",
   "id": "e2d7d596",
   "metadata": {},
   "source": [
    "Não existem dados faltantes neste banco de dados (missings), caso houvesse seria necessário implementar alguma estratégia para lidar com eles em nossos modelos de machine learning (imputação de medidas centrais para preenchimento dos dados faltantes, ou até mesmo descartar colunas/linhas afetadas). Das 17 variáveis contidas no banco de dados, 7 são numéricas e 10 categóricas."
   ]
  },
  {
   "cell_type": "markdown",
   "id": "65bddd2a",
   "metadata": {},
   "source": [
    "<h3>B.I Análise das variáveis numéricas</h3>"
   ]
  },
  {
   "cell_type": "markdown",
   "id": "e21b7912",
   "metadata": {},
   "source": [
    "Calculando média, desvio padrão, quartis, min e max das variáveis numéricas."
   ]
  },
  {
   "cell_type": "code",
   "execution_count": 7,
   "id": "f6026cef",
   "metadata": {
    "scrolled": true
   },
   "outputs": [
    {
     "data": {
      "text/html": [
       "<div>\n",
       "<style scoped>\n",
       "    .dataframe tbody tr th:only-of-type {\n",
       "        vertical-align: middle;\n",
       "    }\n",
       "\n",
       "    .dataframe tbody tr th {\n",
       "        vertical-align: top;\n",
       "    }\n",
       "\n",
       "    .dataframe thead th {\n",
       "        text-align: right;\n",
       "    }\n",
       "</style>\n",
       "<table border=\"1\" class=\"dataframe\">\n",
       "  <thead>\n",
       "    <tr style=\"text-align: right;\">\n",
       "      <th></th>\n",
       "      <th>age</th>\n",
       "      <th>balance</th>\n",
       "      <th>day</th>\n",
       "      <th>duration</th>\n",
       "      <th>campaign</th>\n",
       "      <th>pdays</th>\n",
       "      <th>previous</th>\n",
       "    </tr>\n",
       "  </thead>\n",
       "  <tbody>\n",
       "    <tr>\n",
       "      <th>count</th>\n",
       "      <td>11162.000000</td>\n",
       "      <td>11162.000000</td>\n",
       "      <td>11162.000000</td>\n",
       "      <td>11162.000000</td>\n",
       "      <td>11162.000000</td>\n",
       "      <td>11162.000000</td>\n",
       "      <td>11162.000000</td>\n",
       "    </tr>\n",
       "    <tr>\n",
       "      <th>mean</th>\n",
       "      <td>41.231948</td>\n",
       "      <td>1528.538524</td>\n",
       "      <td>15.658036</td>\n",
       "      <td>371.993818</td>\n",
       "      <td>2.508421</td>\n",
       "      <td>51.330407</td>\n",
       "      <td>0.832557</td>\n",
       "    </tr>\n",
       "    <tr>\n",
       "      <th>std</th>\n",
       "      <td>11.913369</td>\n",
       "      <td>3225.413326</td>\n",
       "      <td>8.420740</td>\n",
       "      <td>347.128386</td>\n",
       "      <td>2.722077</td>\n",
       "      <td>108.758282</td>\n",
       "      <td>2.292007</td>\n",
       "    </tr>\n",
       "    <tr>\n",
       "      <th>min</th>\n",
       "      <td>18.000000</td>\n",
       "      <td>-6847.000000</td>\n",
       "      <td>1.000000</td>\n",
       "      <td>2.000000</td>\n",
       "      <td>1.000000</td>\n",
       "      <td>-1.000000</td>\n",
       "      <td>0.000000</td>\n",
       "    </tr>\n",
       "    <tr>\n",
       "      <th>25%</th>\n",
       "      <td>32.000000</td>\n",
       "      <td>122.000000</td>\n",
       "      <td>8.000000</td>\n",
       "      <td>138.000000</td>\n",
       "      <td>1.000000</td>\n",
       "      <td>-1.000000</td>\n",
       "      <td>0.000000</td>\n",
       "    </tr>\n",
       "    <tr>\n",
       "      <th>50%</th>\n",
       "      <td>39.000000</td>\n",
       "      <td>550.000000</td>\n",
       "      <td>15.000000</td>\n",
       "      <td>255.000000</td>\n",
       "      <td>2.000000</td>\n",
       "      <td>-1.000000</td>\n",
       "      <td>0.000000</td>\n",
       "    </tr>\n",
       "    <tr>\n",
       "      <th>75%</th>\n",
       "      <td>49.000000</td>\n",
       "      <td>1708.000000</td>\n",
       "      <td>22.000000</td>\n",
       "      <td>496.000000</td>\n",
       "      <td>3.000000</td>\n",
       "      <td>20.750000</td>\n",
       "      <td>1.000000</td>\n",
       "    </tr>\n",
       "    <tr>\n",
       "      <th>max</th>\n",
       "      <td>95.000000</td>\n",
       "      <td>81204.000000</td>\n",
       "      <td>31.000000</td>\n",
       "      <td>3881.000000</td>\n",
       "      <td>63.000000</td>\n",
       "      <td>854.000000</td>\n",
       "      <td>58.000000</td>\n",
       "    </tr>\n",
       "  </tbody>\n",
       "</table>\n",
       "</div>"
      ],
      "text/plain": [
       "                age       balance           day      duration      campaign  \\\n",
       "count  11162.000000  11162.000000  11162.000000  11162.000000  11162.000000   \n",
       "mean      41.231948   1528.538524     15.658036    371.993818      2.508421   \n",
       "std       11.913369   3225.413326      8.420740    347.128386      2.722077   \n",
       "min       18.000000  -6847.000000      1.000000      2.000000      1.000000   \n",
       "25%       32.000000    122.000000      8.000000    138.000000      1.000000   \n",
       "50%       39.000000    550.000000     15.000000    255.000000      2.000000   \n",
       "75%       49.000000   1708.000000     22.000000    496.000000      3.000000   \n",
       "max       95.000000  81204.000000     31.000000   3881.000000     63.000000   \n",
       "\n",
       "              pdays      previous  \n",
       "count  11162.000000  11162.000000  \n",
       "mean      51.330407      0.832557  \n",
       "std      108.758282      2.292007  \n",
       "min       -1.000000      0.000000  \n",
       "25%       -1.000000      0.000000  \n",
       "50%       -1.000000      0.000000  \n",
       "75%       20.750000      1.000000  \n",
       "max      854.000000     58.000000  "
      ]
     },
     "execution_count": 7,
     "metadata": {},
     "output_type": "execute_result"
    }
   ],
   "source": [
    "db.describe()"
   ]
  },
  {
   "cell_type": "markdown",
   "id": "c3e6270c",
   "metadata": {},
   "source": [
    "Plotando histogramas das variáveis numéricas: "
   ]
  },
  {
   "cell_type": "code",
   "execution_count": 10,
   "id": "d675e416",
   "metadata": {},
   "outputs": [],
   "source": [
    "#configuração de estilo dos gráficos.\n",
    "from matplotlib import cycler\n",
    "colors = cycler('color',\n",
    "                ['#EE6666', '#3388BB', '#9988DD',\n",
    "                 '#EECC55', '#88BB44', '#FFBBBB'])\n",
    "plt.rc('axes', facecolor='#E6E6E6', edgecolor='none',\n",
    "       axisbelow=True, grid=True, prop_cycle=colors)\n",
    "plt.rc('grid', color='w', linestyle='solid')\n",
    "plt.rc('xtick', direction='out', color='grey')\n",
    "plt.rc('ytick', direction='out', color='gray')\n",
    "plt.rc('patch', edgecolor='#E6E6E6')\n",
    "plt.rc('lines', linewidth=2)"
   ]
  },
  {
   "cell_type": "code",
   "execution_count": 9,
   "id": "e11fdb25",
   "metadata": {
    "scrolled": false
   },
   "outputs": [
    {
     "data": {
      "image/png": "[encoded data removed]",
      "text/plain": [
       "<Figure size 1152x864 with 9 Axes>"
      ]
     },
     "metadata": {
      "needs_background": "dark"
     },
     "output_type": "display_data"
    }
   ],
   "source": [
    "#plotando os gráficos\n",
    "db.hist(bins=20, figsize=(16,12), color='#9575cd')\n",
    "plt.show()"
   ]
  },
  {
   "cell_type": "markdown",
   "id": "fd28bd56",
   "metadata": {},
   "source": [
    "<h3>B.II Outliers (identificação e tratamento)</h3>"
   ]
  },
  {
   "cell_type": "markdown",
   "id": "daba7342",
   "metadata": {},
   "source": [
    "Um dos métodos mais utilizados para identificação de outliers consiste em utilizar o valor calculado do intervalo interquartil de uma variável para estabelecer um intervalo limite fora do qual as observações serão consideradas outliers. O intervalo interqual de uma variável é simplesmente a diferença entre o valor do seu terceiro quartil e o valor do seu primeiro quartil:</br>\n",
    "IIQ = Q3 - Q1</br>\n",
    "Por exemplo calculando o IIQ para a variável 'duration' temos:</br>\n",
    "Q1('duration') = 138 ; Q3('duration') = 496 ; IIQ('duration') = 358</br>\n",
    "Usualmente o intervalo limite é construído utilizando uma proporção de 1,5x da IIQ, de modo que:</br>\n",
    "[Q1 - 1,5(IIQ);  Q3 + 1,5(IIQ)]</br>\n",
    "Valores fora deste limite são considerados outliers.\n",
    "            Podemos fazer a crítica de que esta é uma regra heurística, e sua aplicabilidade depende da amplitude da distribuição dos valores da variável. Mesmo assim, vamos utilizá-la para guiar nossa exploração dos dados. A seguir vamos calcular os limites do intervalo para identificação de outliers para as variáveis numéricas."
   ]
  },
  {
   "cell_type": "code",
   "execution_count": 11,
   "id": "0e25b781",
   "metadata": {},
   "outputs": [],
   "source": [
    "# Definindo função para calculo do intervalo para identificação de outliers\n",
    "d_limout = {\n",
    "    'Variável': [],\n",
    "    'IIQ': [],\n",
    "    'Lim_Sup': [],\n",
    "    '% obs acima': [],\n",
    "    'Lim_Inf': [],\n",
    "    '% obs abaixo': []\n",
    "        }\n",
    "def limite_iiq(var):\n",
    "    Q1 = np.percentile(db[var], 25,\n",
    "                        interpolation = 'midpoint')\n",
    " \n",
    "    Q3 = np.percentile(db[var], 75,\n",
    "                       interpolation = 'midpoint')\n",
    "    IIQ = Q3 - Q1\n",
    "    upper = Q3 + 1.5 * IIQ\n",
    "    lower = Q1 - 1.5 * IIQ\n",
    "    perc_outp = round(len (db[db[var] > upper] ) / len(db) * 100, 2)\n",
    "    perc_outm = round(len (db[db[var] < lower] ) / len(db) * 100, 2)\n",
    "    d_limout['Variável'].append(var)\n",
    "    d_limout['IIQ'].append(IIQ)\n",
    "    d_limout['Lim_Sup'].append(upper)\n",
    "    d_limout['% obs acima'].append(perc_outp)\n",
    "    d_limout['Lim_Inf'].append(lower)\n",
    "    d_limout['% obs abaixo'].append(perc_outm)"
   ]
  },
  {
   "cell_type": "code",
   "execution_count": 12,
   "id": "aaeb6f1e",
   "metadata": {
    "scrolled": true
   },
   "outputs": [],
   "source": [
    "# Calculando intervalos\n",
    "var_num = ['age', 'balance', 'day', 'duration', 'campaign', 'pdays', 'previous']\n",
    "for e in var_num:\n",
    "    limite_iiq(e)"
   ]
  },
  {
   "cell_type": "code",
   "execution_count": 13,
   "id": "01ee8037",
   "metadata": {
    "scrolled": true
   },
   "outputs": [
    {
     "data": {
      "text/html": [
       "<div>\n",
       "<style scoped>\n",
       "    .dataframe tbody tr th:only-of-type {\n",
       "        vertical-align: middle;\n",
       "    }\n",
       "\n",
       "    .dataframe tbody tr th {\n",
       "        vertical-align: top;\n",
       "    }\n",
       "\n",
       "    .dataframe thead th {\n",
       "        text-align: right;\n",
       "    }\n",
       "</style>\n",
       "<table border=\"1\" class=\"dataframe\">\n",
       "  <thead>\n",
       "    <tr style=\"text-align: right;\">\n",
       "      <th></th>\n",
       "      <th>Variável</th>\n",
       "      <th>IIQ</th>\n",
       "      <th>Lim_Sup</th>\n",
       "      <th>% obs acima</th>\n",
       "      <th>Lim_Inf</th>\n",
       "      <th>% obs abaixo</th>\n",
       "    </tr>\n",
       "  </thead>\n",
       "  <tbody>\n",
       "    <tr>\n",
       "      <th>0</th>\n",
       "      <td>age</td>\n",
       "      <td>17.0</td>\n",
       "      <td>74.50</td>\n",
       "      <td>1.53</td>\n",
       "      <td>6.50</td>\n",
       "      <td>0.00</td>\n",
       "    </tr>\n",
       "    <tr>\n",
       "      <th>1</th>\n",
       "      <td>balance</td>\n",
       "      <td>1586.0</td>\n",
       "      <td>4087.00</td>\n",
       "      <td>9.42</td>\n",
       "      <td>-2257.00</td>\n",
       "      <td>0.04</td>\n",
       "    </tr>\n",
       "    <tr>\n",
       "      <th>2</th>\n",
       "      <td>day</td>\n",
       "      <td>14.0</td>\n",
       "      <td>43.00</td>\n",
       "      <td>0.00</td>\n",
       "      <td>-13.00</td>\n",
       "      <td>0.00</td>\n",
       "    </tr>\n",
       "    <tr>\n",
       "      <th>3</th>\n",
       "      <td>duration</td>\n",
       "      <td>358.0</td>\n",
       "      <td>1033.00</td>\n",
       "      <td>5.70</td>\n",
       "      <td>-399.00</td>\n",
       "      <td>0.00</td>\n",
       "    </tr>\n",
       "    <tr>\n",
       "      <th>4</th>\n",
       "      <td>campaign</td>\n",
       "      <td>2.0</td>\n",
       "      <td>6.00</td>\n",
       "      <td>5.38</td>\n",
       "      <td>-2.00</td>\n",
       "      <td>0.00</td>\n",
       "    </tr>\n",
       "    <tr>\n",
       "      <th>5</th>\n",
       "      <td>pdays</td>\n",
       "      <td>21.5</td>\n",
       "      <td>52.75</td>\n",
       "      <td>24.66</td>\n",
       "      <td>-33.25</td>\n",
       "      <td>0.00</td>\n",
       "    </tr>\n",
       "    <tr>\n",
       "      <th>6</th>\n",
       "      <td>previous</td>\n",
       "      <td>1.0</td>\n",
       "      <td>2.50</td>\n",
       "      <td>11.27</td>\n",
       "      <td>-1.50</td>\n",
       "      <td>0.00</td>\n",
       "    </tr>\n",
       "  </tbody>\n",
       "</table>\n",
       "</div>"
      ],
      "text/plain": [
       "   Variável     IIQ  Lim_Sup  % obs acima  Lim_Inf  % obs abaixo\n",
       "0       age    17.0    74.50         1.53     6.50          0.00\n",
       "1   balance  1586.0  4087.00         9.42 -2257.00          0.04\n",
       "2       day    14.0    43.00         0.00   -13.00          0.00\n",
       "3  duration   358.0  1033.00         5.70  -399.00          0.00\n",
       "4  campaign     2.0     6.00         5.38    -2.00          0.00\n",
       "5     pdays    21.5    52.75        24.66   -33.25          0.00\n",
       "6  previous     1.0     2.50        11.27    -1.50          0.00"
      ]
     },
     "execution_count": 13,
     "metadata": {},
     "output_type": "execute_result"
    }
   ],
   "source": [
    "df_d_limout = pd.DataFrame(data=d_limout)\n",
    "df_d_limout"
   ]
  },
  {
   "cell_type": "markdown",
   "id": "1b6f9851",
   "metadata": {},
   "source": [
    "Analisando a tabela podemos perceber que as variáveis 'balance', 'duration', 'campaign', 'pdays' e 'previous' possuem muitas observações acima do limite superior. A seguir vamos analisar cada uma das variáveis e decidir como lidar com os outliers.</br>\n",
    "\n",
    "<b>'pdays'</b></br>\n",
    "Essa variável indica o número de dias que se passaram desde que o cliente foi contactado em uma campanha de marketing anterior. Mais da metade das entradas tem valor '-1', indicando que o cliente não foi contactado em uma campanha anterior. Os dados tem bastante amplitude com 24.66% das observações estando fora do limite superior. O indicativo categórico do valor '-1' e a grande quantidade de outliers pode distorcer o resultado do modelo. A estratégia para lidar com essa situação será transformar essa variável em uma variável categórica binária com valor 'verdadeiro' caso o cliente tenha sido contactado em campanha anterior e 'falso' caso contrário.\n",
    "\n",
    "<b>'previous'</b></br>\n",
    "Essa variável informa quantos contatos foram realizados com o cliente em campanha anterior, a informação contida nesta variável também será resumida na nova variável categórica binária indicando se o cliente foi contatado ou não na campanha anterior.\n",
    "\n",
    "<b>'campaign'</b></br>\n",
    "Essa variável informa o número de contatos realizados com o cliente durante a campanha atual. Em média foram realizados 2,5 contatos por cliente, porém 5,38% das observações estão acima do limite superior calculado de 6 contactos, com o valor máximo de 63 contatos. A estratégia para lidar com os outliers dessa variável será imputar o valor do limite superior '6' para todas as observações com valor para além deste limite.\n",
    "\n",
    "<b>'duration'</b></br>\n",
    "Essa variável informa a duração do último contato com o cliente em segundos. Seu valor médio é de 372 seg e o limite superior calculado foi de 1033 seg; 5,70% das observações estão acima deste limite. A estratégia para lidar com os outliers também será a imputação do valor do limite para os outliers.\n",
    "\n",
    "<b>'contact'</b></br>\n",
    "Essa variável informa por qual meio de comunicação o contato foi feito, as categorias são telefone, celular ou desconhecido, diante da incerteza em relação a qual meio de comunicação a categoria desconhecido se refere, esta variável será desconsiderada nas análises e modelagem subsequentes.\n",
    "\n",
    "Em resumo as modificações que serão feitas no banco de dados serão:</br>\n",
    "a) As variáveis 'pdays', 'previous' e 'contact' serão excluídas.</br>\n",
    "b) Será incluída uma nova variável categórica (contato_ant) indicando se o cliente foi contactado em campanha anterior.</br>\n",
    "c) Valores outliers nas variáveis 'campaign' e 'duration' serão substituídos pelo valor do limite superior.</br>\n",
    "d) Observações com valor superior a 6000 para variável 'balance' serão descartadas."
   ]
  },
  {
   "cell_type": "code",
   "execution_count": 14,
   "id": "e604afa5",
   "metadata": {},
   "outputs": [
    {
     "name": "stderr",
     "output_type": "stream",
     "text": [
      "C:\\Users\\Farley\\anaconda3\\lib\\site-packages\\pandas\\core\\indexing.py:1817: SettingWithCopyWarning: \n",
      "A value is trying to be set on a copy of a slice from a DataFrame.\n",
      "Try using .loc[row_indexer,col_indexer] = value instead\n",
      "\n",
      "See the caveats in the documentation: https://pandas.pydata.org/pandas-docs/stable/user_guide/indexing.html#returning-a-view-versus-a-copy\n",
      "  self._setitem_single_column(loc, value, pi)\n"
     ]
    }
   ],
   "source": [
    "#realizando as alterações no banco de dados:\n",
    "#criando nova variável categorica indicativa de contato em campanha anterior:\n",
    "db['contato_ant'] = ['no' if x == 0 else 'yes' for x in db['previous']]\n",
    "#excluindo variáveis 'pdays' e 'previous'\n",
    "db_2 = db.loc[:, ~db.columns.isin(['pdays', 'previous', 'contact'])]\n",
    "#substituindo valores dos outliers em 'campaign'\n",
    "db_2.loc[(db_2.campaign > 6), 'campaign'] = 6\n",
    "#substituindo valores dos outliers em 'duration'\n",
    "db_2.loc[(db_2.duration > 1033), 'duration'] = 1033\n",
    "#descartando observações com 'balance' > 6000:\n",
    "db_3 = db_2[db_2['balance'].between(-6848, 6000)]"
   ]
  },
  {
   "cell_type": "code",
   "execution_count": 15,
   "id": "9dbd31e8",
   "metadata": {},
   "outputs": [
    {
     "data": {
      "text/plain": [
       "(10598, 15)"
      ]
     },
     "execution_count": 15,
     "metadata": {},
     "output_type": "execute_result"
    }
   ],
   "source": [
    "db_3.shape"
   ]
  },
  {
   "cell_type": "markdown",
   "id": "7ac5be1b",
   "metadata": {},
   "source": [
    "Com as modificações, o banco de dados agora possui 10598 linhas (564 linhas excluídas) e 15 colunas (3 colunas excluídas, uma nova coluna criada)."
   ]
  },
  {
   "cell_type": "code",
   "execution_count": 16,
   "id": "3b1c6b65",
   "metadata": {
    "scrolled": false
   },
   "outputs": [
    {
     "data": {
      "text/html": [
       "<div>\n",
       "<style scoped>\n",
       "    .dataframe tbody tr th:only-of-type {\n",
       "        vertical-align: middle;\n",
       "    }\n",
       "\n",
       "    .dataframe tbody tr th {\n",
       "        vertical-align: top;\n",
       "    }\n",
       "\n",
       "    .dataframe thead th {\n",
       "        text-align: right;\n",
       "    }\n",
       "</style>\n",
       "<table border=\"1\" class=\"dataframe\">\n",
       "  <thead>\n",
       "    <tr style=\"text-align: right;\">\n",
       "      <th></th>\n",
       "      <th>age</th>\n",
       "      <th>balance</th>\n",
       "      <th>day</th>\n",
       "      <th>duration</th>\n",
       "      <th>campaign</th>\n",
       "    </tr>\n",
       "  </thead>\n",
       "  <tbody>\n",
       "    <tr>\n",
       "      <th>count</th>\n",
       "      <td>10598.000000</td>\n",
       "      <td>10598.000000</td>\n",
       "      <td>10598.000000</td>\n",
       "      <td>10598.000000</td>\n",
       "      <td>10598.000000</td>\n",
       "    </tr>\n",
       "    <tr>\n",
       "      <th>mean</th>\n",
       "      <td>41.063031</td>\n",
       "      <td>996.987545</td>\n",
       "      <td>15.640215</td>\n",
       "      <td>352.253727</td>\n",
       "      <td>2.239290</td>\n",
       "    </tr>\n",
       "    <tr>\n",
       "      <th>std</th>\n",
       "      <td>11.823191</td>\n",
       "      <td>1308.569133</td>\n",
       "      <td>8.433662</td>\n",
       "      <td>284.591997</td>\n",
       "      <td>1.519871</td>\n",
       "    </tr>\n",
       "    <tr>\n",
       "      <th>min</th>\n",
       "      <td>18.000000</td>\n",
       "      <td>-6847.000000</td>\n",
       "      <td>1.000000</td>\n",
       "      <td>2.000000</td>\n",
       "      <td>1.000000</td>\n",
       "    </tr>\n",
       "    <tr>\n",
       "      <th>25%</th>\n",
       "      <td>32.000000</td>\n",
       "      <td>106.000000</td>\n",
       "      <td>8.000000</td>\n",
       "      <td>138.000000</td>\n",
       "      <td>1.000000</td>\n",
       "    </tr>\n",
       "    <tr>\n",
       "      <th>50%</th>\n",
       "      <td>38.000000</td>\n",
       "      <td>490.000000</td>\n",
       "      <td>15.000000</td>\n",
       "      <td>254.000000</td>\n",
       "      <td>2.000000</td>\n",
       "    </tr>\n",
       "    <tr>\n",
       "      <th>75%</th>\n",
       "      <td>49.000000</td>\n",
       "      <td>1413.000000</td>\n",
       "      <td>22.000000</td>\n",
       "      <td>494.000000</td>\n",
       "      <td>3.000000</td>\n",
       "    </tr>\n",
       "    <tr>\n",
       "      <th>max</th>\n",
       "      <td>95.000000</td>\n",
       "      <td>5990.000000</td>\n",
       "      <td>31.000000</td>\n",
       "      <td>1033.000000</td>\n",
       "      <td>6.000000</td>\n",
       "    </tr>\n",
       "  </tbody>\n",
       "</table>\n",
       "</div>"
      ],
      "text/plain": [
       "                age       balance           day      duration      campaign\n",
       "count  10598.000000  10598.000000  10598.000000  10598.000000  10598.000000\n",
       "mean      41.063031    996.987545     15.640215    352.253727      2.239290\n",
       "std       11.823191   1308.569133      8.433662    284.591997      1.519871\n",
       "min       18.000000  -6847.000000      1.000000      2.000000      1.000000\n",
       "25%       32.000000    106.000000      8.000000    138.000000      1.000000\n",
       "50%       38.000000    490.000000     15.000000    254.000000      2.000000\n",
       "75%       49.000000   1413.000000     22.000000    494.000000      3.000000\n",
       "max       95.000000   5990.000000     31.000000   1033.000000      6.000000"
      ]
     },
     "execution_count": 16,
     "metadata": {},
     "output_type": "execute_result"
    }
   ],
   "source": [
    "db_3.describe()"
   ]
  },
  {
   "cell_type": "code",
   "execution_count": 17,
   "id": "96b4eca8",
   "metadata": {},
   "outputs": [
    {
     "data": {
      "image/png": "[encoded data removed]",
      "text/plain": [
       "<Figure size 1152x864 with 6 Axes>"
      ]
     },
     "metadata": {
      "needs_background": "dark"
     },
     "output_type": "display_data"
    }
   ],
   "source": [
    "db_3.hist(bins=20, figsize=(16,12), color='#9575cd')\n",
    "plt.show()"
   ]
  },
  {
   "cell_type": "markdown",
   "id": "584f92bc",
   "metadata": {},
   "source": [
    "<h3>B.III Análise das variáveis categóricas</h3>"
   ]
  },
  {
   "cell_type": "markdown",
   "id": "c3275fbb",
   "metadata": {},
   "source": [
    "Plotando histograma das variáveis categóricas, eixo y medido em frequência relativa."
   ]
  },
  {
   "cell_type": "code",
   "execution_count": 18,
   "id": "daa431dd",
   "metadata": {
    "scrolled": false
   },
   "outputs": [
    {
     "data": {
      "image/png": "[encoded data removed]",
      "text/plain": [
       "<Figure size 1440x1080 with 9 Axes>"
      ]
     },
     "metadata": {
      "needs_background": "dark"
     },
     "output_type": "display_data"
    }
   ],
   "source": [
    "cat_columns = ['job', 'marital', 'education', 'default', 'housing', 'loan', 'month', 'contato_ant', 'poutcome']\n",
    "\n",
    "fig, axs = plt.subplots(3, 3, sharex=False, sharey=False, figsize=(20, 15))\n",
    "\n",
    "counter = 0\n",
    "for cat_column in cat_columns:\n",
    "    value_counts = db_3[cat_column].value_counts()\n",
    "    \n",
    "    trace_x = counter // 3\n",
    "    trace_y = counter % 3\n",
    "    x_pos = np.arange(0, len(value_counts))\n",
    "    \n",
    "    axs[trace_x, trace_y].bar(x_pos, value_counts.values/11162*100, tick_label = value_counts.index, color='#9575cd')\n",
    "    \n",
    "    axs[trace_x, trace_y].set_title(cat_column)\n",
    "    \n",
    "    for tick in axs[trace_x, trace_y].get_xticklabels():\n",
    "        tick.set_rotation(90)\n",
    "    counter += 1\n",
    "fig.tight_layout()\n",
    "plt.show()"
   ]
  },
  {
   "cell_type": "markdown",
   "id": "a33dfd24",
   "metadata": {},
   "source": [
    "<b>Observações:</b></br>\n",
    "a) As categorias de trabalho mais presentes na amostra são gerencial, de colarinho-azul, técnico, e administrativo, somadas elas constituem mais de 60% da amostra.</br>\n",
    "b) Mais da metade dos clientes da amostra é casado.</br>\n",
    "c) A maior parte dos clientes da amostra tem educação de nível secundário.</br>\n",
    "d) A grande maioria dos clientes da amostra não possuem dívidas, nem tomaram empréstimo pessoal.</br>\n",
    "e) A quantidade de clientes com e sem empréstimo imobiliário é parecida.</br>\n",
    "f) A maior parte dos contatos foi feita via celular, no mês de maio.</br>\n",
    "g) Cerca de 20% dos clientes haviam sido contactados na campanha anterior.</br>"
   ]
  },
  {
   "cell_type": "markdown",
   "id": "8eb06ea4",
   "metadata": {},
   "source": [
    "<h3>B.IV Análise da variável alvo</h3>"
   ]
  },
  {
   "cell_type": "markdown",
   "id": "a2799b87",
   "metadata": {},
   "source": [
    "Plotando histograma para variável 'deposit'"
   ]
  },
  {
   "cell_type": "code",
   "execution_count": 186,
   "id": "c9d904fa",
   "metadata": {
    "scrolled": false
   },
   "outputs": [
    {
     "data": {
      "text/plain": [
       "<AxesSubplot:title={'center':'Deposit'}>"
      ]
     },
     "execution_count": 186,
     "metadata": {},
     "output_type": "execute_result"
    },
    {
     "data": {
      "image/png": "[encoded data removed]",
      "text/plain": [
       "<Figure size 432x288 with 1 Axes>"
      ]
     },
     "metadata": {
      "needs_background": "dark"
     },
     "output_type": "display_data"
    }
   ],
   "source": [
    "value_counts = db_3['deposit'].value_counts()\n",
    "\n",
    "value_counts.plot.bar(title = 'Deposit', color = ['#FF8370','#7A70FF'])"
   ]
  },
  {
   "cell_type": "code",
   "execution_count": 187,
   "id": "24de7bc0",
   "metadata": {},
   "outputs": [
    {
     "name": "stdout",
     "output_type": "stream",
     "text": [
      "44.526% dos clientes aceitaram a oferta\n",
      "50.421% dos clientes recusaram a oferta\n"
     ]
    }
   ],
   "source": [
    "per_yes = round(len (db_3[db_3['deposit'] == 'yes'] ) / len(db) * 100, 3)\n",
    "per_no = round(len (db_3[db_3['deposit'] == 'no'] ) / len(db) * 100, 3)\n",
    "print(f'{per_yes}% dos clientes aceitaram a oferta')\n",
    "print(f'{per_no}% dos clientes recusaram a oferta')"
   ]
  },
  {
   "cell_type": "markdown",
   "id": "a6261697",
   "metadata": {},
   "source": [
    "A quantidade de respostas \"sim\" e \"não\" é semelhante."
   ]
  },
  {
   "cell_type": "markdown",
   "id": "8a6c00f4",
   "metadata": {},
   "source": [
    "<h3>B.V Análise da relação entre a variável alvo e as outras variáveis categóricas</h3>"
   ]
  },
  {
   "cell_type": "markdown",
   "id": "27ed433d",
   "metadata": {},
   "source": [
    "A seguir serão plotados histogramas comparando a frequência de aceites e recusas para as diferentes categorias das variáveis categóricas"
   ]
  },
  {
   "cell_type": "code",
   "execution_count": 19,
   "id": "5e9570c5",
   "metadata": {
    "scrolled": false
   },
   "outputs": [
    {
     "data": {
      "text/plain": [
       "<AxesSubplot:title={'center':'Resposta(\"deposit\") por profissão '}>"
      ]
     },
     "execution_count": 19,
     "metadata": {},
     "output_type": "execute_result"
    },
    {
     "data": {
      "image/png": "[encoded data removed]",
      "text/plain": [
       "<Figure size 432x288 with 1 Axes>"
      ]
     },
     "metadata": {
      "needs_background": "dark"
     },
     "output_type": "display_data"
    }
   ],
   "source": [
    "# Plotando o gráfico de contagem de respostas por categoria da variável 'job'.\n",
    "j_db = pd.DataFrame()\n",
    "\n",
    "j_db['yes'] = db_3[db_3['deposit'] == 'yes']['job'].value_counts()\n",
    "j_db['no'] = db_3[db_3['deposit'] == 'no']['job'].value_counts()\n",
    "\n",
    "j_db.plot.bar(title = 'Resposta(\"deposit\") por profissão ', color = ['#7A70FF','#FF8370'])"
   ]
  },
  {
   "cell_type": "code",
   "execution_count": 20,
   "id": "ae775714",
   "metadata": {},
   "outputs": [
    {
     "data": {
      "text/plain": [
       "<AxesSubplot:title={'center':'Resposta(\"deposit\") por situação conjugal'}>"
      ]
     },
     "execution_count": 20,
     "metadata": {},
     "output_type": "execute_result"
    },
    {
     "data": {
      "image/png": "[encoded data removed]",
      "text/plain": [
       "<Figure size 432x288 with 1 Axes>"
      ]
     },
     "metadata": {
      "needs_background": "dark"
     },
     "output_type": "display_data"
    }
   ],
   "source": [
    "# Plotando o gráfico de contagem de respostas por categoria da variável 'marital'.\n",
    "j_df = pd.DataFrame()\n",
    "\n",
    "j_df['yes'] = db_3[db_3['deposit'] == 'yes']['marital'].value_counts()\n",
    "j_df['no'] = db_3[db_3['deposit'] == 'no']['marital'].value_counts()\n",
    "\n",
    "j_df.plot.bar(title = 'Resposta(\"deposit\") por situação conjugal', color = ['#7A70FF','#FF8370'])"
   ]
  },
  {
   "cell_type": "code",
   "execution_count": 21,
   "id": "f2c27641",
   "metadata": {},
   "outputs": [
    {
     "data": {
      "text/plain": [
       "<AxesSubplot:title={'center':'Resposta(\"deposit\") por nível educacional'}>"
      ]
     },
     "execution_count": 21,
     "metadata": {},
     "output_type": "execute_result"
    },
    {
     "data": {
      "image/png": "[encoded data removed]",
      "text/plain": [
       "<Figure size 432x288 with 1 Axes>"
      ]
     },
     "metadata": {
      "needs_background": "dark"
     },
     "output_type": "display_data"
    }
   ],
   "source": [
    "# Plotando o gráfico de contagem de respostas por categoria da variável 'education'.\n",
    "j_df = pd.DataFrame()\n",
    "\n",
    "j_df['yes'] = db_3[db_3['deposit'] == 'yes']['education'].value_counts()\n",
    "j_df['no'] = db_3[db_3['deposit'] == 'no']['education'].value_counts()\n",
    "\n",
    "j_df.plot.bar(title = 'Resposta(\"deposit\") por nível educacional', color = ['#7A70FF','#FF8370'])"
   ]
  },
  {
   "cell_type": "code",
   "execution_count": 22,
   "id": "09b8898a",
   "metadata": {
    "scrolled": true
   },
   "outputs": [
    {
     "data": {
      "text/plain": [
       "<AxesSubplot:title={'center':'Resposta(\"deposit\") por empréstimo imobiliário '}>"
      ]
     },
     "execution_count": 22,
     "metadata": {},
     "output_type": "execute_result"
    },
    {
     "data": {
      "image/png": "[encoded data removed]",
      "text/plain": [
       "<Figure size 432x288 with 1 Axes>"
      ]
     },
     "metadata": {
      "needs_background": "dark"
     },
     "output_type": "display_data"
    }
   ],
   "source": [
    "# Plotando o gráfico de contagem de respostas por categoria da variável 'housing'.\n",
    "j_df = pd.DataFrame()\n",
    "\n",
    "j_df['yes'] = db_3[db_3['deposit'] == 'yes']['housing'].value_counts()\n",
    "j_df['no'] = db_3[db_3['deposit'] == 'no']['housing'].value_counts()\n",
    "\n",
    "j_df.plot.bar(title = 'Resposta(\"deposit\") por empréstimo imobiliário ', color = ['#7A70FF','#FF8370'])"
   ]
  },
  {
   "cell_type": "code",
   "execution_count": 24,
   "id": "97865f7d",
   "metadata": {
    "scrolled": false
   },
   "outputs": [
    {
     "data": {
      "text/plain": [
       "<AxesSubplot:title={'center':'Resposta(\"deposit\") por empréstimo pessoal '}>"
      ]
     },
     "execution_count": 24,
     "metadata": {},
     "output_type": "execute_result"
    },
    {
     "data": {
      "image/png": "[encoded data removed]",
      "text/plain": [
       "<Figure size 432x288 with 1 Axes>"
      ]
     },
     "metadata": {
      "needs_background": "dark"
     },
     "output_type": "display_data"
    }
   ],
   "source": [
    "# Plotando o gráfico de contagem de respostas por categoria da variável 'loan'.\n",
    "j_df = pd.DataFrame()\n",
    "\n",
    "j_df['yes'] = db_3[db_3['deposit'] == 'yes']['loan'].value_counts()\n",
    "j_df['no'] = db_3[db_3['deposit'] == 'no']['loan'].value_counts()\n",
    "\n",
    "j_df.plot.bar(title = 'Resposta(\"deposit\") por empréstimo pessoal ', color = ['#7A70FF','#FF8370'])"
   ]
  },
  {
   "cell_type": "code",
   "execution_count": 25,
   "id": "57afa521",
   "metadata": {
    "scrolled": false
   },
   "outputs": [
    {
     "data": {
      "text/plain": [
       "<AxesSubplot:title={'center':'Resposta(\"deposit\") por cantato anterior'}>"
      ]
     },
     "execution_count": 25,
     "metadata": {},
     "output_type": "execute_result"
    },
    {
     "data": {
      "image/png": "[encoded data removed]",
      "text/plain": [
       "<Figure size 432x288 with 1 Axes>"
      ]
     },
     "metadata": {
      "needs_background": "dark"
     },
     "output_type": "display_data"
    }
   ],
   "source": [
    "# Plotando o gráfico de contagem de respostas por categoria da variável 'contato_ant'.\n",
    "j_df = pd.DataFrame()\n",
    "\n",
    "j_df['yes'] = db_3[db_3['deposit'] == 'yes']['contato_ant'].value_counts()\n",
    "j_df['no'] = db_3[db_3['deposit'] == 'no']['contato_ant'].value_counts()\n",
    "\n",
    "j_df.plot.bar(title = 'Resposta(\"deposit\") por cantato anterior', color = ['#7A70FF','#FF8370'])"
   ]
  },
  {
   "cell_type": "code",
   "execution_count": 26,
   "id": "e52da515",
   "metadata": {
    "scrolled": true
   },
   "outputs": [
    {
     "data": {
      "text/plain": [
       "<AxesSubplot:title={'center':'Resposta(\"deposit\") por resultado da campanha anterior'}>"
      ]
     },
     "execution_count": 26,
     "metadata": {},
     "output_type": "execute_result"
    },
    {
     "data": {
      "image/png": "[encoded data removed]",
      "text/plain": [
       "<Figure size 432x288 with 1 Axes>"
      ]
     },
     "metadata": {
      "needs_background": "dark"
     },
     "output_type": "display_data"
    }
   ],
   "source": [
    "# Plotando o gráfico de contagem de respostas por categoria da variável 'contato_ant'.\n",
    "j_df = pd.DataFrame()\n",
    "\n",
    "j_df['yes'] = db_3[db_3['deposit'] == 'yes']['poutcome'].value_counts()\n",
    "j_df['no'] = db_3[db_3['deposit'] == 'no']['poutcome'].value_counts()\n",
    "\n",
    "j_df.plot.bar(title = 'Resposta(\"deposit\") por resultado da campanha anterior', color = ['#7A70FF','#FF8370'])"
   ]
  },
  {
   "cell_type": "markdown",
   "id": "102cbd2c",
   "metadata": {},
   "source": [
    "<b>Observações:</b></br>\n",
    "a) Os clientes que trabalham na área gerencial, aposentados, estudantes e desempregados, foram as quatro categorias profissionais que apresentaram uma quantidade maior de aceites que de recusa. Trabalhadores de colarinho-azul e do setor de serviços apresentam uma proporção de recusas maior.</br>\n",
    "b) Solteiros apresentam uma quantidade maior de aceites do que recusas.</br>\n",
    "c) Clientes com educação de nível terciário (educação superior) apresentaram uma quantidade de aceites maior que de recusas.</br>\n",
    "d) Clientes que não possuem empréstimo imobiliário possuem uma quantidade de aceites maior que se recusa, enquanto que para os clientes com empréstimo imobiliário a quantidade de recusas é maior.</br>\n",
    "e) Clientes que tomaram empréstimo pessoal apresentam proporção maior de recusa.</br>\n",
    "f) Dentre os clientes que foram contactados em uma campanha anterior, a proporção de aceites na campanha atual é maior para os que também aceitaram a oferta da campanha anterior."
   ]
  },
  {
   "cell_type": "markdown",
   "id": "164c37b1",
   "metadata": {},
   "source": [
    "<h3>B.VI Análise da relação entre a variável alvo e as outras variáveis numéricas</h3>"
   ]
  },
  {
   "cell_type": "markdown",
   "id": "2b55348b",
   "metadata": {},
   "source": [
    "A seguir serão apresentadas comparações entre as estatísticas das variáveis numéricas estratificadas pelo aceite ou recusa dos clientes."
   ]
  },
  {
   "cell_type": "code",
   "execution_count": 27,
   "id": "bf4a30a8",
   "metadata": {},
   "outputs": [
    {
     "data": {
      "text/html": [
       "<div>\n",
       "<style scoped>\n",
       "    .dataframe tbody tr th:only-of-type {\n",
       "        vertical-align: middle;\n",
       "    }\n",
       "\n",
       "    .dataframe tbody tr th {\n",
       "        vertical-align: top;\n",
       "    }\n",
       "\n",
       "    .dataframe thead th {\n",
       "        text-align: right;\n",
       "    }\n",
       "</style>\n",
       "<table border=\"1\" class=\"dataframe\">\n",
       "  <thead>\n",
       "    <tr style=\"text-align: right;\">\n",
       "      <th></th>\n",
       "      <th>balance_yes</th>\n",
       "      <th>balance_no</th>\n",
       "    </tr>\n",
       "  </thead>\n",
       "  <tbody>\n",
       "    <tr>\n",
       "      <th>count</th>\n",
       "      <td>4970.000000</td>\n",
       "      <td>5628.000000</td>\n",
       "    </tr>\n",
       "    <tr>\n",
       "      <th>mean</th>\n",
       "      <td>1182.356942</td>\n",
       "      <td>833.290689</td>\n",
       "    </tr>\n",
       "    <tr>\n",
       "      <th>std</th>\n",
       "      <td>1375.669078</td>\n",
       "      <td>1223.297057</td>\n",
       "    </tr>\n",
       "    <tr>\n",
       "      <th>min</th>\n",
       "      <td>-3058.000000</td>\n",
       "      <td>-6847.000000</td>\n",
       "    </tr>\n",
       "    <tr>\n",
       "      <th>25%</th>\n",
       "      <td>189.000000</td>\n",
       "      <td>52.750000</td>\n",
       "    </tr>\n",
       "    <tr>\n",
       "      <th>50%</th>\n",
       "      <td>650.500000</td>\n",
       "      <td>373.500000</td>\n",
       "    </tr>\n",
       "    <tr>\n",
       "      <th>75%</th>\n",
       "      <td>1766.000000</td>\n",
       "      <td>1138.000000</td>\n",
       "    </tr>\n",
       "    <tr>\n",
       "      <th>max</th>\n",
       "      <td>5990.000000</td>\n",
       "      <td>5969.000000</td>\n",
       "    </tr>\n",
       "  </tbody>\n",
       "</table>\n",
       "</div>"
      ],
      "text/plain": [
       "       balance_yes   balance_no\n",
       "count  4970.000000  5628.000000\n",
       "mean   1182.356942   833.290689\n",
       "std    1375.669078  1223.297057\n",
       "min   -3058.000000 -6847.000000\n",
       "25%     189.000000    52.750000\n",
       "50%     650.500000   373.500000\n",
       "75%    1766.000000  1138.000000\n",
       "max    5990.000000  5969.000000"
      ]
     },
     "execution_count": 27,
     "metadata": {},
     "output_type": "execute_result"
    }
   ],
   "source": [
    "#balance e deposit\n",
    "\n",
    "b_df = pd.DataFrame()\n",
    "b_df['balance_yes'] = (db_3[db_3['deposit'] == 'yes'][['deposit','balance']].describe())['balance']\n",
    "b_df['balance_no'] = (db_3[db_3['deposit'] == 'no'][['deposit','balance']].describe())['balance']\n",
    "\n",
    "b_df"
   ]
  },
  {
   "cell_type": "code",
   "execution_count": 30,
   "id": "26f68c69",
   "metadata": {
    "scrolled": true
   },
   "outputs": [
    {
     "data": {
      "text/plain": [
       "<AxesSubplot:title={'center':'Comparação das estatísticas para a variável \"balance\" entre os clientes que aceitaram e que recusaram a oferta'}>"
      ]
     },
     "execution_count": 30,
     "metadata": {},
     "output_type": "execute_result"
    },
    {
     "data": {
      "image/png": "[encoded data removed]",
      "text/plain": [
       "<Figure size 432x288 with 1 Axes>"
      ]
     },
     "metadata": {
      "needs_background": "dark"
     },
     "output_type": "display_data"
    }
   ],
   "source": [
    "b_df.drop(['count', '25%', '50%', '75%']).plot.bar(title = 'Comparação das estatísticas para a variável \"balance\" entre os clientes que aceitaram e que recusaram a oferta')"
   ]
  },
  {
   "cell_type": "code",
   "execution_count": 32,
   "id": "94d64d69",
   "metadata": {},
   "outputs": [
    {
     "data": {
      "text/html": [
       "<div>\n",
       "<style scoped>\n",
       "    .dataframe tbody tr th:only-of-type {\n",
       "        vertical-align: middle;\n",
       "    }\n",
       "\n",
       "    .dataframe tbody tr th {\n",
       "        vertical-align: top;\n",
       "    }\n",
       "\n",
       "    .dataframe thead th {\n",
       "        text-align: right;\n",
       "    }\n",
       "</style>\n",
       "<table border=\"1\" class=\"dataframe\">\n",
       "  <thead>\n",
       "    <tr style=\"text-align: right;\">\n",
       "      <th></th>\n",
       "      <th>age_yes</th>\n",
       "      <th>age_no</th>\n",
       "    </tr>\n",
       "  </thead>\n",
       "  <tbody>\n",
       "    <tr>\n",
       "      <th>count</th>\n",
       "      <td>4970.000000</td>\n",
       "      <td>5628.000000</td>\n",
       "    </tr>\n",
       "    <tr>\n",
       "      <th>mean</th>\n",
       "      <td>41.445473</td>\n",
       "      <td>40.725302</td>\n",
       "    </tr>\n",
       "    <tr>\n",
       "      <th>std</th>\n",
       "      <td>13.388912</td>\n",
       "      <td>10.232809</td>\n",
       "    </tr>\n",
       "    <tr>\n",
       "      <th>min</th>\n",
       "      <td>18.000000</td>\n",
       "      <td>18.000000</td>\n",
       "    </tr>\n",
       "    <tr>\n",
       "      <th>25%</th>\n",
       "      <td>31.000000</td>\n",
       "      <td>33.000000</td>\n",
       "    </tr>\n",
       "    <tr>\n",
       "      <th>50%</th>\n",
       "      <td>38.000000</td>\n",
       "      <td>39.000000</td>\n",
       "    </tr>\n",
       "    <tr>\n",
       "      <th>75%</th>\n",
       "      <td>50.000000</td>\n",
       "      <td>48.000000</td>\n",
       "    </tr>\n",
       "    <tr>\n",
       "      <th>max</th>\n",
       "      <td>95.000000</td>\n",
       "      <td>89.000000</td>\n",
       "    </tr>\n",
       "  </tbody>\n",
       "</table>\n",
       "</div>"
      ],
      "text/plain": [
       "           age_yes       age_no\n",
       "count  4970.000000  5628.000000\n",
       "mean     41.445473    40.725302\n",
       "std      13.388912    10.232809\n",
       "min      18.000000    18.000000\n",
       "25%      31.000000    33.000000\n",
       "50%      38.000000    39.000000\n",
       "75%      50.000000    48.000000\n",
       "max      95.000000    89.000000"
      ]
     },
     "execution_count": 32,
     "metadata": {},
     "output_type": "execute_result"
    }
   ],
   "source": [
    "#age and deposit\n",
    "\n",
    "a_df = pd.DataFrame()\n",
    "a_df['age_yes'] = (db_3[db_3['deposit'] == 'yes'][['deposit','age']].describe())['age']\n",
    "a_df['age_no'] = (db_3[db_3['deposit'] == 'no'][['deposit','age']].describe())['age']\n",
    "\n",
    "a_df"
   ]
  },
  {
   "cell_type": "code",
   "execution_count": 33,
   "id": "2fb22692",
   "metadata": {},
   "outputs": [
    {
     "data": {
      "text/plain": [
       "<AxesSubplot:title={'center':'Comparação das estatísticas para a variável \"age” entre os clientes que aceitaram e que recusaram a oferta'}>"
      ]
     },
     "execution_count": 33,
     "metadata": {},
     "output_type": "execute_result"
    },
    {
     "data": {
      "image/png": "[encoded data removed]",
      "text/plain": [
       "<Figure size 432x288 with 1 Axes>"
      ]
     },
     "metadata": {
      "needs_background": "dark"
     },
     "output_type": "display_data"
    }
   ],
   "source": [
    "a_df.drop(['count', '25%', '50%', '75%']).plot.bar(title = 'Comparação das estatísticas para a variável \"age” entre os clientes que aceitaram e que recusaram a oferta')"
   ]
  },
  {
   "cell_type": "code",
   "execution_count": 34,
   "id": "a3b843a5",
   "metadata": {},
   "outputs": [
    {
     "data": {
      "text/html": [
       "<div>\n",
       "<style scoped>\n",
       "    .dataframe tbody tr th:only-of-type {\n",
       "        vertical-align: middle;\n",
       "    }\n",
       "\n",
       "    .dataframe tbody tr th {\n",
       "        vertical-align: top;\n",
       "    }\n",
       "\n",
       "    .dataframe thead th {\n",
       "        text-align: right;\n",
       "    }\n",
       "</style>\n",
       "<table border=\"1\" class=\"dataframe\">\n",
       "  <thead>\n",
       "    <tr style=\"text-align: right;\">\n",
       "      <th></th>\n",
       "      <th>campaign_yes</th>\n",
       "      <th>campaign_no</th>\n",
       "    </tr>\n",
       "  </thead>\n",
       "  <tbody>\n",
       "    <tr>\n",
       "      <th>count</th>\n",
       "      <td>4970.000000</td>\n",
       "      <td>5628.000000</td>\n",
       "    </tr>\n",
       "    <tr>\n",
       "      <th>mean</th>\n",
       "      <td>2.024748</td>\n",
       "      <td>2.428749</td>\n",
       "    </tr>\n",
       "    <tr>\n",
       "      <th>std</th>\n",
       "      <td>1.357133</td>\n",
       "      <td>1.627056</td>\n",
       "    </tr>\n",
       "    <tr>\n",
       "      <th>min</th>\n",
       "      <td>1.000000</td>\n",
       "      <td>1.000000</td>\n",
       "    </tr>\n",
       "    <tr>\n",
       "      <th>25%</th>\n",
       "      <td>1.000000</td>\n",
       "      <td>1.000000</td>\n",
       "    </tr>\n",
       "    <tr>\n",
       "      <th>50%</th>\n",
       "      <td>2.000000</td>\n",
       "      <td>2.000000</td>\n",
       "    </tr>\n",
       "    <tr>\n",
       "      <th>75%</th>\n",
       "      <td>3.000000</td>\n",
       "      <td>3.000000</td>\n",
       "    </tr>\n",
       "    <tr>\n",
       "      <th>max</th>\n",
       "      <td>6.000000</td>\n",
       "      <td>6.000000</td>\n",
       "    </tr>\n",
       "  </tbody>\n",
       "</table>\n",
       "</div>"
      ],
      "text/plain": [
       "       campaign_yes  campaign_no\n",
       "count   4970.000000  5628.000000\n",
       "mean       2.024748     2.428749\n",
       "std        1.357133     1.627056\n",
       "min        1.000000     1.000000\n",
       "25%        1.000000     1.000000\n",
       "50%        2.000000     2.000000\n",
       "75%        3.000000     3.000000\n",
       "max        6.000000     6.000000"
      ]
     },
     "execution_count": 34,
     "metadata": {},
     "output_type": "execute_result"
    }
   ],
   "source": [
    "#campaign e deposit\n",
    "c_df = pd.DataFrame()\n",
    "c_df['campaign_yes'] = (db_3[db_3['deposit'] == 'yes'][['deposit','campaign']].describe())['campaign']\n",
    "c_df['campaign_no'] = (db_3[db_3['deposit'] == 'no'][['deposit','campaign']].describe())['campaign']\n",
    "\n",
    "c_df"
   ]
  },
  {
   "cell_type": "code",
   "execution_count": 35,
   "id": "b3760557",
   "metadata": {
    "scrolled": true
   },
   "outputs": [
    {
     "data": {
      "text/plain": [
       "<AxesSubplot:title={'center':'Comparação das estatísticas para a variável \"campaign\" entre os clientes que aceitaram e que recusaram a oferta'}>"
      ]
     },
     "execution_count": 35,
     "metadata": {},
     "output_type": "execute_result"
    },
    {
     "data": {
      "image/png": "[encoded data removed]",
      "text/plain": [
       "<Figure size 432x288 with 1 Axes>"
      ]
     },
     "metadata": {
      "needs_background": "dark"
     },
     "output_type": "display_data"
    }
   ],
   "source": [
    "c_df.drop(['count', '25%', '50%', '75%']).plot.bar(title = 'Comparação das estatísticas para a variável \"campaign\" entre os clientes que aceitaram e que recusaram a oferta')"
   ]
  },
  {
   "cell_type": "code",
   "execution_count": 36,
   "id": "33482e5e",
   "metadata": {},
   "outputs": [
    {
     "data": {
      "text/html": [
       "<div>\n",
       "<style scoped>\n",
       "    .dataframe tbody tr th:only-of-type {\n",
       "        vertical-align: middle;\n",
       "    }\n",
       "\n",
       "    .dataframe tbody tr th {\n",
       "        vertical-align: top;\n",
       "    }\n",
       "\n",
       "    .dataframe thead th {\n",
       "        text-align: right;\n",
       "    }\n",
       "</style>\n",
       "<table border=\"1\" class=\"dataframe\">\n",
       "  <thead>\n",
       "    <tr style=\"text-align: right;\">\n",
       "      <th></th>\n",
       "      <th>duration_yes</th>\n",
       "      <th>duration_no</th>\n",
       "    </tr>\n",
       "  </thead>\n",
       "  <tbody>\n",
       "    <tr>\n",
       "      <th>count</th>\n",
       "      <td>4970.000000</td>\n",
       "      <td>5628.000000</td>\n",
       "    </tr>\n",
       "    <tr>\n",
       "      <th>mean</th>\n",
       "      <td>502.248692</td>\n",
       "      <td>219.795487</td>\n",
       "    </tr>\n",
       "    <tr>\n",
       "      <th>std</th>\n",
       "      <td>299.188652</td>\n",
       "      <td>189.900743</td>\n",
       "    </tr>\n",
       "    <tr>\n",
       "      <th>min</th>\n",
       "      <td>8.000000</td>\n",
       "      <td>2.000000</td>\n",
       "    </tr>\n",
       "    <tr>\n",
       "      <th>25%</th>\n",
       "      <td>244.250000</td>\n",
       "      <td>94.000000</td>\n",
       "    </tr>\n",
       "    <tr>\n",
       "      <th>50%</th>\n",
       "      <td>428.500000</td>\n",
       "      <td>163.000000</td>\n",
       "    </tr>\n",
       "    <tr>\n",
       "      <th>75%</th>\n",
       "      <td>726.750000</td>\n",
       "      <td>281.250000</td>\n",
       "    </tr>\n",
       "    <tr>\n",
       "      <th>max</th>\n",
       "      <td>1033.000000</td>\n",
       "      <td>1033.000000</td>\n",
       "    </tr>\n",
       "  </tbody>\n",
       "</table>\n",
       "</div>"
      ],
      "text/plain": [
       "       duration_yes  duration_no\n",
       "count   4970.000000  5628.000000\n",
       "mean     502.248692   219.795487\n",
       "std      299.188652   189.900743\n",
       "min        8.000000     2.000000\n",
       "25%      244.250000    94.000000\n",
       "50%      428.500000   163.000000\n",
       "75%      726.750000   281.250000\n",
       "max     1033.000000  1033.000000"
      ]
     },
     "execution_count": 36,
     "metadata": {},
     "output_type": "execute_result"
    }
   ],
   "source": [
    "#campaign e deposit\n",
    "c_df = pd.DataFrame()\n",
    "c_df['duration_yes'] = (db_3[db_3['deposit'] == 'yes'][['deposit','duration']].describe())['duration']\n",
    "c_df['duration_no'] = (db_3[db_3['deposit'] == 'no'][['deposit','duration']].describe())['duration']\n",
    "\n",
    "c_df"
   ]
  },
  {
   "cell_type": "code",
   "execution_count": 38,
   "id": "77b1ce0d",
   "metadata": {},
   "outputs": [
    {
     "data": {
      "text/plain": [
       "<AxesSubplot:title={'center':'Comparação das estatísticas para a variável \"duration\" entre os clientes que aceitaram e que recusaram a oferta'}>"
      ]
     },
     "execution_count": 38,
     "metadata": {},
     "output_type": "execute_result"
    },
    {
     "data": {
      "image/png": "[encoded data removed]",
      "text/plain": [
       "<Figure size 432x288 with 1 Axes>"
      ]
     },
     "metadata": {
      "needs_background": "dark"
     },
     "output_type": "display_data"
    }
   ],
   "source": [
    "c_df.drop(['count', '25%', '50%', '75%']).plot.bar(title = 'Comparação das estatísticas para a variável \"duration\" entre os clientes que aceitaram e que recusaram a oferta'\n",
    ")"
   ]
  },
  {
   "cell_type": "markdown",
   "id": "9479d6e7",
   "metadata": {},
   "source": [
    "<b>Observações:</b></br>\n",
    "a) Clientes que aceitaram a oferta tendem a ser mais velhos e com maior saldo bancário.</br>\n",
    "b) Clientes que aceitaram a oferta foram contactados menos vezes em média.</br>\n",
    "c) Clientes que aceitaram a oferta tiveram um último contato mais longo."
   ]
  },
  {
   "cell_type": "markdown",
   "id": "346fd821",
   "metadata": {},
   "source": [
    "<h2>C. Limpeza Dos Dados</h2>"
   ]
  },
  {
   "cell_type": "markdown",
   "id": "5c8c6863",
   "metadata": {},
   "source": [
    "Antes de prosseguirmos com a modelagem de machine learning os dados precisam ser preparados:</br>\n",
    "a) As colunas com valores sim/não serão convertidas em valores booleanos.</br>\n",
    "b) Colunas categóricas serão convertidas em variáveis dummies.</br>"
   ]
  },
  {
   "cell_type": "code",
   "execution_count": 39,
   "id": "7aa9c8d7",
   "metadata": {},
   "outputs": [],
   "source": [
    "def get_dummy_from_bool(row, column_name):\n",
    "    return 1 if row[column_name] == 'yes' else 0\n",
    "\n",
    "\n",
    "def clean_data(df):\n",
    "    cleaned_df = db_3.copy()\n",
    "\n",
    "    # Convertendo as colunas com valores 'yes', 'no' em colunas com valores booleanos\n",
    "    bool_columns = ['default', 'housing', 'loan', 'deposit', 'contato_ant']\n",
    "    for bool_col in bool_columns:\n",
    "        cleaned_df[bool_col + '_bool'] = df.apply(lambda row: get_dummy_from_bool(row, bool_col), axis=1)\n",
    "\n",
    "    cleaned_df = cleaned_df.drop(columns=bool_columns)\n",
    "\n",
    "    # Convertendo colunas categóricas em colunas dummies\n",
    "    cat_columns = ['job', 'marital', 'education', 'month', 'poutcome']\n",
    "    for col in cat_columns:\n",
    "        cleaned_df = pd.concat([cleaned_df.drop(col, axis=1),\n",
    "                                pd.get_dummies(cleaned_df[col], prefix=col, prefix_sep='_', drop_first=True,\n",
    "                                               dummy_na=False)], axis=1)\n",
    "\n",
    "    return cleaned_df"
   ]
  },
  {
   "cell_type": "code",
   "execution_count": 40,
   "id": "366b76ec",
   "metadata": {
    "scrolled": false
   },
   "outputs": [],
   "source": [
    "cleaned_df = clean_data(db_3)"
   ]
  },
  {
   "cell_type": "code",
   "execution_count": 41,
   "id": "3709c0d8",
   "metadata": {},
   "outputs": [
    {
     "data": {
      "text/html": [
       "<div>\n",
       "<style scoped>\n",
       "    .dataframe tbody tr th:only-of-type {\n",
       "        vertical-align: middle;\n",
       "    }\n",
       "\n",
       "    .dataframe tbody tr th {\n",
       "        vertical-align: top;\n",
       "    }\n",
       "\n",
       "    .dataframe thead th {\n",
       "        text-align: right;\n",
       "    }\n",
       "</style>\n",
       "<table border=\"1\" class=\"dataframe\">\n",
       "  <thead>\n",
       "    <tr style=\"text-align: right;\">\n",
       "      <th></th>\n",
       "      <th>age</th>\n",
       "      <th>balance</th>\n",
       "      <th>day</th>\n",
       "      <th>duration</th>\n",
       "      <th>campaign</th>\n",
       "      <th>default_bool</th>\n",
       "      <th>housing_bool</th>\n",
       "      <th>loan_bool</th>\n",
       "      <th>deposit_bool</th>\n",
       "      <th>contato_ant_bool</th>\n",
       "      <th>...</th>\n",
       "      <th>month_jul</th>\n",
       "      <th>month_jun</th>\n",
       "      <th>month_mar</th>\n",
       "      <th>month_may</th>\n",
       "      <th>month_nov</th>\n",
       "      <th>month_oct</th>\n",
       "      <th>month_sep</th>\n",
       "      <th>poutcome_other</th>\n",
       "      <th>poutcome_success</th>\n",
       "      <th>poutcome_unknown</th>\n",
       "    </tr>\n",
       "  </thead>\n",
       "  <tbody>\n",
       "    <tr>\n",
       "      <th>0</th>\n",
       "      <td>59</td>\n",
       "      <td>2343</td>\n",
       "      <td>5</td>\n",
       "      <td>1033</td>\n",
       "      <td>1</td>\n",
       "      <td>0</td>\n",
       "      <td>1</td>\n",
       "      <td>0</td>\n",
       "      <td>1</td>\n",
       "      <td>0</td>\n",
       "      <td>...</td>\n",
       "      <td>0</td>\n",
       "      <td>0</td>\n",
       "      <td>0</td>\n",
       "      <td>1</td>\n",
       "      <td>0</td>\n",
       "      <td>0</td>\n",
       "      <td>0</td>\n",
       "      <td>0</td>\n",
       "      <td>0</td>\n",
       "      <td>1</td>\n",
       "    </tr>\n",
       "    <tr>\n",
       "      <th>1</th>\n",
       "      <td>56</td>\n",
       "      <td>45</td>\n",
       "      <td>5</td>\n",
       "      <td>1033</td>\n",
       "      <td>1</td>\n",
       "      <td>0</td>\n",
       "      <td>0</td>\n",
       "      <td>0</td>\n",
       "      <td>1</td>\n",
       "      <td>0</td>\n",
       "      <td>...</td>\n",
       "      <td>0</td>\n",
       "      <td>0</td>\n",
       "      <td>0</td>\n",
       "      <td>1</td>\n",
       "      <td>0</td>\n",
       "      <td>0</td>\n",
       "      <td>0</td>\n",
       "      <td>0</td>\n",
       "      <td>0</td>\n",
       "      <td>1</td>\n",
       "    </tr>\n",
       "    <tr>\n",
       "      <th>2</th>\n",
       "      <td>41</td>\n",
       "      <td>1270</td>\n",
       "      <td>5</td>\n",
       "      <td>1033</td>\n",
       "      <td>1</td>\n",
       "      <td>0</td>\n",
       "      <td>1</td>\n",
       "      <td>0</td>\n",
       "      <td>1</td>\n",
       "      <td>0</td>\n",
       "      <td>...</td>\n",
       "      <td>0</td>\n",
       "      <td>0</td>\n",
       "      <td>0</td>\n",
       "      <td>1</td>\n",
       "      <td>0</td>\n",
       "      <td>0</td>\n",
       "      <td>0</td>\n",
       "      <td>0</td>\n",
       "      <td>0</td>\n",
       "      <td>1</td>\n",
       "    </tr>\n",
       "    <tr>\n",
       "      <th>3</th>\n",
       "      <td>55</td>\n",
       "      <td>2476</td>\n",
       "      <td>5</td>\n",
       "      <td>579</td>\n",
       "      <td>1</td>\n",
       "      <td>0</td>\n",
       "      <td>1</td>\n",
       "      <td>0</td>\n",
       "      <td>1</td>\n",
       "      <td>0</td>\n",
       "      <td>...</td>\n",
       "      <td>0</td>\n",
       "      <td>0</td>\n",
       "      <td>0</td>\n",
       "      <td>1</td>\n",
       "      <td>0</td>\n",
       "      <td>0</td>\n",
       "      <td>0</td>\n",
       "      <td>0</td>\n",
       "      <td>0</td>\n",
       "      <td>1</td>\n",
       "    </tr>\n",
       "    <tr>\n",
       "      <th>4</th>\n",
       "      <td>54</td>\n",
       "      <td>184</td>\n",
       "      <td>5</td>\n",
       "      <td>673</td>\n",
       "      <td>2</td>\n",
       "      <td>0</td>\n",
       "      <td>0</td>\n",
       "      <td>0</td>\n",
       "      <td>1</td>\n",
       "      <td>0</td>\n",
       "      <td>...</td>\n",
       "      <td>0</td>\n",
       "      <td>0</td>\n",
       "      <td>0</td>\n",
       "      <td>1</td>\n",
       "      <td>0</td>\n",
       "      <td>0</td>\n",
       "      <td>0</td>\n",
       "      <td>0</td>\n",
       "      <td>0</td>\n",
       "      <td>1</td>\n",
       "    </tr>\n",
       "  </tbody>\n",
       "</table>\n",
       "<p>5 rows × 40 columns</p>\n",
       "</div>"
      ],
      "text/plain": [
       "   age  balance  day  duration  campaign  default_bool  housing_bool  \\\n",
       "0   59     2343    5      1033         1             0             1   \n",
       "1   56       45    5      1033         1             0             0   \n",
       "2   41     1270    5      1033         1             0             1   \n",
       "3   55     2476    5       579         1             0             1   \n",
       "4   54      184    5       673         2             0             0   \n",
       "\n",
       "   loan_bool  deposit_bool  contato_ant_bool  ...  month_jul  month_jun  \\\n",
       "0          0             1                 0  ...          0          0   \n",
       "1          0             1                 0  ...          0          0   \n",
       "2          0             1                 0  ...          0          0   \n",
       "3          0             1                 0  ...          0          0   \n",
       "4          0             1                 0  ...          0          0   \n",
       "\n",
       "   month_mar  month_may  month_nov  month_oct  month_sep  poutcome_other  \\\n",
       "0          0          1          0          0          0               0   \n",
       "1          0          1          0          0          0               0   \n",
       "2          0          1          0          0          0               0   \n",
       "3          0          1          0          0          0               0   \n",
       "4          0          1          0          0          0               0   \n",
       "\n",
       "   poutcome_success  poutcome_unknown  \n",
       "0                 0                 1  \n",
       "1                 0                 1  \n",
       "2                 0                 1  \n",
       "3                 0                 1  \n",
       "4                 0                 1  \n",
       "\n",
       "[5 rows x 40 columns]"
      ]
     },
     "execution_count": 41,
     "metadata": {},
     "output_type": "execute_result"
    }
   ],
   "source": [
    "cleaned_df.head()"
   ]
  },
  {
   "cell_type": "markdown",
   "id": "d432ba4b",
   "metadata": {},
   "source": [
    "<h2>D. Modelo de Machine Learning</h2>"
   ]
  },
  {
   "cell_type": "markdown",
   "id": "80202bc2",
   "metadata": {},
   "source": [
    "Modelo de classificação para a predição do resultado da campanha</br>\n",
    "O banco de dados limpo será utilizado para treinar um modelo machine learning de classificação. Para tal será utilizada a biblioteca XGBoost. O resultado do modelo nos ajudará também a compreender quais fatores têm maior importância no processo de predição dos resultados da campanha."
   ]
  },
  {
   "cell_type": "markdown",
   "id": "b28746cd",
   "metadata": {},
   "source": [
    "Primeiramente precisamos separar parte dos dados para serem utilizados no treinamento e outra parte na validação do modelo."
   ]
  },
  {
   "cell_type": "code",
   "execution_count": 42,
   "id": "6a3d94dc",
   "metadata": {},
   "outputs": [],
   "source": [
    "X = cleaned_df.drop(columns = 'deposit_bool')\n",
    "y = cleaned_df[['deposit_bool']]"
   ]
  },
  {
   "cell_type": "code",
   "execution_count": 43,
   "id": "1fbd4ff4",
   "metadata": {},
   "outputs": [],
   "source": [
    "TEST_SIZE = 0.3\n",
    "RAND_STATE = 42"
   ]
  },
  {
   "cell_type": "code",
   "execution_count": 44,
   "id": "e2042523",
   "metadata": {},
   "outputs": [],
   "source": [
    "X_train, X_test, y_train, y_test = train_test_split(X, y, test_size = TEST_SIZE, random_state=RAND_STATE)"
   ]
  },
  {
   "cell_type": "code",
   "execution_count": 45,
   "id": "edfff5d8",
   "metadata": {},
   "outputs": [
    {
     "name": "stderr",
     "output_type": "stream",
     "text": [
      "C:\\Users\\Farley\\anaconda3\\lib\\site-packages\\xgboost\\sklearn.py:1224: UserWarning: The use of label encoder in XGBClassifier is deprecated and will be removed in a future release. To remove this warning, do the following: 1) Pass option use_label_encoder=False when constructing XGBClassifier object; and 2) Encode your labels (y) as integers starting with 0, i.e. 0, 1, 2, ..., [num_class - 1].\n",
      "  warnings.warn(label_encoder_deprecation_msg, UserWarning)\n"
     ]
    },
    {
     "name": "stdout",
     "output_type": "stream",
     "text": [
      "[10:57:40] WARNING: ..\\src\\learner.cc:1115: Starting in XGBoost 1.3.0, the default evaluation metric used with the objective 'binary:logistic' was changed from 'error' to 'logloss'. Explicitly set eval_metric if you'd like to restore the old behavior.\n",
      "XGB accuracy score para os dados de treinamento: 0.910: avaliação: 0.848\n"
     ]
    }
   ],
   "source": [
    "#Treinando o modelo XGBoost\n",
    "xgb = xgboost.XGBClassifier(n_estimators=100, learning_rate=0.08, gamma=0, subsample=0.75,\n",
    "                           colsample_bytree=1, max_depth=7)\n",
    "xgb.fit(X_train,y_train.squeeze().values)\n",
    "\n",
    "#Calculando e exibindo os scores de performance do modelo.\n",
    "y_train_preds = xgb.predict(X_train)\n",
    "y_test_preds = xgb.predict(X_test)\n",
    "\n",
    "print('XGB accuracy score para os dados de treinamento: %.3f: avaliação: %.3f' % (\n",
    "        accuracy_score(y_train, y_train_preds),\n",
    "        accuracy_score(y_test, y_test_preds)))"
   ]
  },
  {
   "cell_type": "markdown",
   "id": "249181d9",
   "metadata": {},
   "source": [
    "Uma vez que nossos dados possuem uma quantidade semelhante de recusas e aceites, podemos utilizar a pontuação de acurácia (accuracy score) para avaliar a eficiência do modelo. O accuracy score é medido pela razão entre número de predições corretas e o total de predições realizadas. Para o nosso modelo, e utilizando os dados de avaliação, o modelo teve um score de 0.848, isso quer dizer que do total de predições realizadas sobre os dados de avaliação o modelo foi capaz de predizer corretamente 84,8% das predições."
   ]
  },
  {
   "cell_type": "markdown",
   "id": "b9bcd2e4",
   "metadata": {},
   "source": [
    "Calculando a importância de cada fator para o treinamento do modelo:"
   ]
  },
  {
   "cell_type": "code",
   "execution_count": 46,
   "id": "49c747e7",
   "metadata": {
    "scrolled": false
   },
   "outputs": [
    {
     "data": {
      "image/png": "[encoded data removed]",
      "text/plain": [
       "<Figure size 432x288 with 1 Axes>"
      ]
     },
     "metadata": {
      "needs_background": "dark"
     },
     "output_type": "display_data"
    }
   ],
   "source": [
    "#calculando a importância dos fatores:\n",
    "headers = [\"name\", \"score\"]\n",
    "values = sorted(zip(X_train.columns, xgb.feature_importances_), key=lambda x: x[1] * -1)\n",
    "xgb_feature_importances = pd.DataFrame(values, columns = headers)\n",
    "\n",
    "#plotando as medidas de importância\n",
    "x_pos = np.arange(0, len(xgb_feature_importances))\n",
    "plt.bar(x_pos, xgb_feature_importances['score'])\n",
    "plt.xticks(x_pos, xgb_feature_importances['name'])\n",
    "plt.xticks(rotation=90)\n",
    "plt.title('Feature importances (XGB)')\n",
    "\n",
    "plt.show()"
   ]
  },
  {
   "cell_type": "markdown",
   "id": "0351f5fa",
   "metadata": {},
   "source": [
    "Como pode ser visto no diagrama acima as variáveis que demonstraram maior importância para o treinamento do modelo foram:<br>\n",
    "<b>a)</b> Aceite do cliente em campanha anterior ('poutcome success').<br>\n",
    "Clientes que já aceitaram propostas em campanhas anteriores têm maiores chances de aceitar novas propostas.<br>\n",
    "<b>b)</b> Mês de março.<br>\n",
    "<b>c)</b> Empréstimo imobiliário.<br>\n",
    "Como visto em seção anterior, clientes que não possuem empréstimo imobiliário tem uma probabilidade maior de aceitarem a oferta, em relação aos clientes que possuem empréstimo imobiliário.<br>\n",
    "<b>d)</b> Duração do último contato com cliente.<br>\n",
    "Últimos contatos com duração maior tendem a resultar em um aceite do cliente com mais frequência.<br>\n",
    "<b>e)</b> Estudante.<br>\n",
    "Estudantes possuem uma proporção maior de aceites em relação a recusas que outras categorias profissionais."
   ]
  },
  {
   "cell_type": "markdown",
   "id": "d829a175",
   "metadata": {},
   "source": [
    "Vamos investigar a relação entre mês em que foi realizado o contato, e a resposta do cliente, para tentarmos avaliar por qual razão o mês de março foi tão relevante para o treinamento do modelo:"
   ]
  },
  {
   "cell_type": "code",
   "execution_count": 232,
   "id": "62093d00",
   "metadata": {
    "scrolled": true
   },
   "outputs": [
    {
     "data": {
      "text/plain": [
       "<AxesSubplot:title={'center':'Resposta(\"deposit\") por cantato anterior'}>"
      ]
     },
     "execution_count": 232,
     "metadata": {},
     "output_type": "execute_result"
    },
    {
     "data": {
      "image/png": "[encoded data removed]",
      "text/plain": [
       "<Figure size 432x288 with 1 Axes>"
      ]
     },
     "metadata": {
      "needs_background": "dark"
     },
     "output_type": "display_data"
    }
   ],
   "source": [
    "# Plotando o grafico de contagem de respostas por categoria da variavel 'contato_ant'.\n",
    "j_df = pd.DataFrame()\n",
    "\n",
    "j_df['yes'] = db_3[db_3['deposit'] == 'yes']['month'].value_counts()\n",
    "j_df['no'] = db_3[db_3['deposit'] == 'no']['month'].value_counts()\n",
    "\n",
    "j_df.plot.bar(title = 'Resposta(\"deposit\") por cantato anterior', color = ['#7A70FF','#FF8370'])"
   ]
  },
  {
   "cell_type": "markdown",
   "id": "82d71ae3",
   "metadata": {},
   "source": [
    "Apesar de haver poucos um menor número de contatos realizados no mês de março, a proporção de aceites neste mês foi muito maior em relação ao número de recusas, o mesmo vale para os meses de outubro e setembro. Uma investigação mais minuciosa do processo da campanha seria necessária para julgar se esses dados são frutos de alguma sazonalidade real ou ruído estatístico."
   ]
  },
  {
   "cell_type": "markdown",
   "id": "b942f4cb",
   "metadata": {},
   "source": [
    "Vamos realizar algumas avaliações mais pontuais:"
   ]
  },
  {
   "cell_type": "markdown",
   "id": "8c4e8973",
   "metadata": {},
   "source": [
    "Avaliando qual a melhor faixa de saldo para direcionar uma campanha:"
   ]
  },
  {
   "cell_type": "code",
   "execution_count": 207,
   "id": "158a1f21",
   "metadata": {
    "scrolled": false
   },
   "outputs": [
    {
     "data": {
      "image/png": "[encoded data removed]",
      "text/plain": [
       "<Figure size 432x288 with 1 Axes>"
      ]
     },
     "metadata": {
      "needs_background": "dark"
     },
     "output_type": "display_data"
    }
   ],
   "source": [
    "df_new = cleaned_df.copy()\n",
    "\n",
    "\n",
    "df_new['balance_buckets'] = pd.qcut(df_new['balance'], 50, labels=False, duplicates = 'drop')\n",
    "\n",
    "\n",
    "mean_deposit = df_new.groupby(['balance_buckets'])['deposit_bool'].mean()\n",
    "\n",
    "#plot\n",
    "plt.plot(mean_deposit.index, mean_deposit.values)\n",
    "plt.title('Mean % subscription depending on account balance')\n",
    "plt.xlabel('balance bucket')\n",
    "plt.ylabel('% subscription')\n",
    "plt.show()"
   ]
  },
  {
   "cell_type": "code",
   "execution_count": 222,
   "id": "12ee9d09",
   "metadata": {},
   "outputs": [
    {
     "data": {
      "text/plain": [
       "1356"
      ]
     },
     "execution_count": 222,
     "metadata": {},
     "output_type": "execute_result"
    }
   ],
   "source": [
    "df_new[df_new['balance_buckets'] == 35]['balance'].min()"
   ]
  },
  {
   "cell_type": "markdown",
   "id": "95366aea",
   "metadata": {},
   "source": [
    "A proporção de aceites dos clientes varia positivamente com o aumento do saldo. Clientes com um saldo maior que 1356 apresentam uma proporção de aceites superior a 50%."
   ]
  },
  {
   "cell_type": "markdown",
   "id": "d59bd5ba",
   "metadata": {},
   "source": [
    "Avaliando o impacto da idade do cliente na probabilidade de aceite:"
   ]
  },
  {
   "cell_type": "code",
   "execution_count": 210,
   "id": "2c0e6b6a",
   "metadata": {},
   "outputs": [
    {
     "data": {
      "image/png": "[encoded data removed]",
      "text/plain": [
       "<Figure size 432x288 with 1 Axes>"
      ]
     },
     "metadata": {
      "needs_background": "dark"
     },
     "output_type": "display_data"
    }
   ],
   "source": [
    "\n",
    "df_new['age_buckets'] = pd.qcut(df_new['age'], 20, labels=False, duplicates = 'drop')\n",
    "\n",
    "\n",
    "mean_age = df_new.groupby(['age_buckets'])['deposit_bool'].mean()\n",
    "\n",
    "#plot\n",
    "plt.plot(mean_age.index, mean_age.values)\n",
    "plt.title('Mean % subscription depending on age')\n",
    "plt.xlabel('age bucket')\n",
    "plt.ylabel('% subscription')\n",
    "plt.show()"
   ]
  },
  {
   "cell_type": "code",
   "execution_count": 233,
   "id": "f9afa7a0",
   "metadata": {
    "scrolled": true
   },
   "outputs": [
    {
     "data": {
      "text/plain": [
       "28"
      ]
     },
     "execution_count": 233,
     "metadata": {},
     "output_type": "execute_result"
    }
   ],
   "source": [
    "df_new[df_new['age_buckets'] == 1]['age'].max()"
   ]
  },
  {
   "cell_type": "code",
   "execution_count": 235,
   "id": "a496cdd4",
   "metadata": {},
   "outputs": [
    {
     "data": {
      "text/plain": [
       "61"
      ]
     },
     "execution_count": 235,
     "metadata": {},
     "output_type": "execute_result"
    }
   ],
   "source": [
    "df_new[df_new['age_buckets'] == 18]['age'].max()"
   ]
  },
  {
   "cell_type": "markdown",
   "id": "124782b7",
   "metadata": {},
   "source": [
    "Clientes com idade menor que 28 anos e maior que 61 apresentam proporção de aceite maior que 50%. Já para a faixa etária entre 28 e 61 anos a proporção de aceite é inferior a 50%."
   ]
  },
  {
   "cell_type": "code",
   "execution_count": 236,
   "id": "d9e5d84c",
   "metadata": {},
   "outputs": [
    {
     "data": {
      "image/png": "[encoded data removed]",
      "text/plain": [
       "<Figure size 432x288 with 1 Axes>"
      ]
     },
     "metadata": {
      "needs_background": "dark"
     },
     "output_type": "display_data"
    }
   ],
   "source": [
    "#introduce new column 'age_buckets' to  ''\n",
    "df_new['campaign_buckets'] = pd.qcut(df_new['campaign'], 20, labels=False, duplicates = 'drop')\n",
    "\n",
    "#group by 'balance_buckets' and find average campaign outcome per balance bucket\n",
    "mean_campaign = df_new.groupby(['campaign_buckets'])['deposit_bool'].mean()\n",
    "\n",
    "#plot average campaign outcome per bucket \n",
    "plt.plot(mean_campaign.index, mean_campaign.values)\n",
    "plt.title('Mean % subscription depending on number of contacts')\n",
    "plt.xlabel('number of contacts bucket')\n",
    "plt.ylabel('% subscription')\n",
    "plt.show()"
   ]
  },
  {
   "cell_type": "code",
   "execution_count": 237,
   "id": "b0295a3e",
   "metadata": {},
   "outputs": [
    {
     "data": {
      "text/plain": [
       "3"
      ]
     },
     "execution_count": 237,
     "metadata": {},
     "output_type": "execute_result"
    }
   ],
   "source": [
    "df_new[df_new['campaign_buckets'] == 1]['campaign'].min()"
   ]
  },
  {
   "cell_type": "markdown",
   "id": "f3e6a812",
   "metadata": {},
   "source": [
    "A proporção de aceites cai em função do aumento do número de contatos realizados com o cliente durante a campanha. Do terceiro contato em diante com um cliente a proporção de aceite é menor que 50%."
   ]
  },
  {
   "cell_type": "markdown",
   "id": "5a0b42b7",
   "metadata": {},
   "source": [
    "<h3>E. Conclusões</h3>"
   ]
  },
  {
   "cell_type": "markdown",
   "id": "94bb6d1f",
   "metadata": {},
   "source": [
    "Segundo as análises realizadas neste estudo, recomendamos que futuras campanhas de marketing sejam focadas nos seguintes publicos:\n",
    "\n",
    "<b>a)</b> Clientes que já aceitaram propostas em campanhas de marketing anteriores.\n",
    "\n",
    "<b>b)</b> Clientes que não possuem empréstimo imobiliário.\n",
    "\n",
    "<b>c)</b> Estudantes.\n",
    "\n",
    "<b>d)</b> Clientes com idade inferior a 28 anos e superior a 61 anos.\n",
    "\n",
    "<b>e)</b> Clientes com saldo bancário superior a 1356$.\n"
   ]
  }
 ],
 "metadata": {
  "kernelspec": {
   "display_name": "Python 3 (ipykernel)",
   "language": "python",
   "name": "python3"
  },
  "language_info": {
   "codemirror_mode": {
    "name": "ipython",
    "version": 3
   },
   "file_extension": ".py",
   "mimetype": "text/x-python",
   "name": "python",
   "nbconvert_exporter": "python",
   "pygments_lexer": "ipython3",
   "version": "3.9.7"
  }
 },
 "nbformat": 4,
 "nbformat_minor": 5
}
